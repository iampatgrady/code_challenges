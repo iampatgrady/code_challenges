{
  "nbformat": 4,
  "nbformat_minor": 0,
  "metadata": {
    "colab": {
      "name": "ML Training | Clustering Analysis with GA Data.ipynb",
      "version": "0.3.2",
      "provenance": [],
      "collapsed_sections": [
        "LvAZ9ajMf9Jr"
      ],
      "toc_visible": true,
      "include_colab_link": true
    },
    "kernelspec": {
      "name": "python2",
      "display_name": "Python 2"
    },
    "accelerator": "GPU"
  },
  "cells": [
    {
      "cell_type": "markdown",
      "metadata": {
        "id": "view-in-github",
        "colab_type": "text"
      },
      "source": [
        "[View in Colaboratory](https://colab.research.google.com/github/iampatgrady/code_challenges/blob/master/ML_Training_%7C_Clustering_Analysis_with_GA_Data.ipynb)"
      ]
    },
    {
      "metadata": {
        "id": "x04BSi4a8fCX",
        "colab_type": "text"
      },
      "cell_type": "markdown",
      "source": [
        "# Generating Personas using Clustering Analysis\n",
        "<img src='https://storage.googleapis.com/pats-test/clustering/clustering_personas.png' width='600px'/>\n",
        "\n"
      ]
    },
    {
      "metadata": {
        "id": "3WJa9l2Ly28N",
        "colab_type": "text"
      },
      "cell_type": "markdown",
      "source": [
        "## Analyze GA Data and Generalize Website Behaviors Against Business Objectives\n",
        "<img src=\"https://storage.googleapis.com/pats-test/clustering/ga_analysis_informs_sql_statement.png\">\n",
        "### Identify Important Behaviors, Conversions, and Pages/Sections on Website\n",
        "**Google Merchandise Store:** https://shop.googlemerchandisestore.com/  \n",
        "**Exercise 1:** Create a bulleted list of at least 5 important behaviors, conversions, or pages/sections that exist on the website.\n",
        ">A) Visit the DEMO GA Account: https://analytics.google.com/analytics/web/demoAccount  \n",
        ">B) Use the **Behaviors** and **Conversions** reports to identify important pages, conversions and events on the site  \n",
        "\n",
        ">>i. **Behaviors >> Content Drilldown** report will give visibility into \"Sections\" or \"Folders\" on the site, a good high-level view into behaviors  \n",
        ">>ii. **Conversions >> Ecommerce** report will give you a sense of the popular products on the site that generate high amounts of revenue  \n",
        "\n",
        ">C) Including behaviors that capture all aspects of the user journey is preferred and in the future we can always add more behaviors  \n",
        ">D) For this exercise try to keep it simple and stay focused on \"high value users\"\n",
        "\n",
        "*Type your answers for the exercise 1 below; execute the cell by pressing **\"shift+enter\"** when the cell is in focus:*"
      ]
    },
    {
      "metadata": {
        "id": "SxQGO_nq2j65",
        "colab_type": "code",
        "colab": {}
      },
      "cell_type": "code",
      "source": [
        "# Your observations from the GA data:  {1 : 'first observation about GA data', ... }\n",
        "exercise1 = {\n",
        "    1: \"\", # add your answers between the quotes\n",
        "    2: \"\",\n",
        "    3: \"\",\n",
        "    4: \"\",\n",
        "    5: \"\"\n",
        "}"
      ],
      "execution_count": 0,
      "outputs": []
    },
    {
      "metadata": {
        "id": "H7expmO-5dBM",
        "colab_type": "text"
      },
      "cell_type": "markdown",
      "source": [
        "## What do Pandas have to do with it?\n",
        "Pandas is similar to Excel in terms of its ability to store columnar data and giving the analyst access to mathmatical functions that can be applied to summarize or visualize that data (ie. pivot, filter, average, sum, etc...). We store data in a Pandas object called a DataFrame. This is a quick demonstration of DataFrame abilities:\n"
      ]
    },
    {
      "metadata": {
        "id": "XPQyhPqgGu--",
        "colab_type": "code",
        "colab": {
          "base_uri": "https://localhost:8080/",
          "height": 204
        },
        "outputId": "b0b1f410-7016-44b0-dc29-5a26f2cedfd0"
      },
      "cell_type": "code",
      "source": [
        "# First, we'll import the pandas library and henceforth refer to it as \"pd\"\n",
        "import pandas as pd\n",
        "\n",
        "# Second, download some CSV data and save that into a DataFrame object\n",
        "titanic_data_frame = pd.read_csv('https://raw.githubusercontent.com/mwaskom/seaborn-data/master/titanic.csv')\n",
        "\n",
        "# Finally, print the first 5 rows of the data we just downloaded:\n",
        "titanic_data_frame.head(5)"
      ],
      "execution_count": 2,
      "outputs": [
        {
          "output_type": "execute_result",
          "data": {
            "text/html": [
              "<div>\n",
              "<style scoped>\n",
              "    .dataframe tbody tr th:only-of-type {\n",
              "        vertical-align: middle;\n",
              "    }\n",
              "\n",
              "    .dataframe tbody tr th {\n",
              "        vertical-align: top;\n",
              "    }\n",
              "\n",
              "    .dataframe thead th {\n",
              "        text-align: right;\n",
              "    }\n",
              "</style>\n",
              "<table border=\"1\" class=\"dataframe\">\n",
              "  <thead>\n",
              "    <tr style=\"text-align: right;\">\n",
              "      <th></th>\n",
              "      <th>survived</th>\n",
              "      <th>pclass</th>\n",
              "      <th>sex</th>\n",
              "      <th>age</th>\n",
              "      <th>sibsp</th>\n",
              "      <th>parch</th>\n",
              "      <th>fare</th>\n",
              "      <th>embarked</th>\n",
              "      <th>class</th>\n",
              "      <th>who</th>\n",
              "      <th>adult_male</th>\n",
              "      <th>deck</th>\n",
              "      <th>embark_town</th>\n",
              "      <th>alive</th>\n",
              "      <th>alone</th>\n",
              "    </tr>\n",
              "  </thead>\n",
              "  <tbody>\n",
              "    <tr>\n",
              "      <th>0</th>\n",
              "      <td>0</td>\n",
              "      <td>3</td>\n",
              "      <td>male</td>\n",
              "      <td>22.0</td>\n",
              "      <td>1</td>\n",
              "      <td>0</td>\n",
              "      <td>7.2500</td>\n",
              "      <td>S</td>\n",
              "      <td>Third</td>\n",
              "      <td>man</td>\n",
              "      <td>True</td>\n",
              "      <td>NaN</td>\n",
              "      <td>Southampton</td>\n",
              "      <td>no</td>\n",
              "      <td>False</td>\n",
              "    </tr>\n",
              "    <tr>\n",
              "      <th>1</th>\n",
              "      <td>1</td>\n",
              "      <td>1</td>\n",
              "      <td>female</td>\n",
              "      <td>38.0</td>\n",
              "      <td>1</td>\n",
              "      <td>0</td>\n",
              "      <td>71.2833</td>\n",
              "      <td>C</td>\n",
              "      <td>First</td>\n",
              "      <td>woman</td>\n",
              "      <td>False</td>\n",
              "      <td>C</td>\n",
              "      <td>Cherbourg</td>\n",
              "      <td>yes</td>\n",
              "      <td>False</td>\n",
              "    </tr>\n",
              "    <tr>\n",
              "      <th>2</th>\n",
              "      <td>1</td>\n",
              "      <td>3</td>\n",
              "      <td>female</td>\n",
              "      <td>26.0</td>\n",
              "      <td>0</td>\n",
              "      <td>0</td>\n",
              "      <td>7.9250</td>\n",
              "      <td>S</td>\n",
              "      <td>Third</td>\n",
              "      <td>woman</td>\n",
              "      <td>False</td>\n",
              "      <td>NaN</td>\n",
              "      <td>Southampton</td>\n",
              "      <td>yes</td>\n",
              "      <td>True</td>\n",
              "    </tr>\n",
              "    <tr>\n",
              "      <th>3</th>\n",
              "      <td>1</td>\n",
              "      <td>1</td>\n",
              "      <td>female</td>\n",
              "      <td>35.0</td>\n",
              "      <td>1</td>\n",
              "      <td>0</td>\n",
              "      <td>53.1000</td>\n",
              "      <td>S</td>\n",
              "      <td>First</td>\n",
              "      <td>woman</td>\n",
              "      <td>False</td>\n",
              "      <td>C</td>\n",
              "      <td>Southampton</td>\n",
              "      <td>yes</td>\n",
              "      <td>False</td>\n",
              "    </tr>\n",
              "    <tr>\n",
              "      <th>4</th>\n",
              "      <td>0</td>\n",
              "      <td>3</td>\n",
              "      <td>male</td>\n",
              "      <td>35.0</td>\n",
              "      <td>0</td>\n",
              "      <td>0</td>\n",
              "      <td>8.0500</td>\n",
              "      <td>S</td>\n",
              "      <td>Third</td>\n",
              "      <td>man</td>\n",
              "      <td>True</td>\n",
              "      <td>NaN</td>\n",
              "      <td>Southampton</td>\n",
              "      <td>no</td>\n",
              "      <td>True</td>\n",
              "    </tr>\n",
              "  </tbody>\n",
              "</table>\n",
              "</div>"
            ],
            "text/plain": [
              "   survived  pclass     sex   age  sibsp  parch     fare embarked  class  \\\n",
              "0         0       3    male  22.0      1      0   7.2500        S  Third   \n",
              "1         1       1  female  38.0      1      0  71.2833        C  First   \n",
              "2         1       3  female  26.0      0      0   7.9250        S  Third   \n",
              "3         1       1  female  35.0      1      0  53.1000        S  First   \n",
              "4         0       3    male  35.0      0      0   8.0500        S  Third   \n",
              "\n",
              "     who  adult_male deck  embark_town alive  alone  \n",
              "0    man        True  NaN  Southampton    no  False  \n",
              "1  woman       False    C    Cherbourg   yes  False  \n",
              "2  woman       False  NaN  Southampton   yes   True  \n",
              "3  woman       False    C  Southampton   yes  False  \n",
              "4    man        True  NaN  Southampton    no   True  "
            ]
          },
          "metadata": {
            "tags": []
          },
          "execution_count": 2
        }
      ]
    },
    {
      "metadata": {
        "id": "oBUkcy8D7OwX",
        "colab_type": "code",
        "colab": {
          "base_uri": "https://localhost:8080/",
          "height": 396
        },
        "outputId": "219c5f7c-45d5-411f-a41a-01c84dfca84f"
      },
      "cell_type": "code",
      "source": [
        "# Pivot the data (group by) and perform aggregations (sum, count) on the data, visualize the result with a bar plot:\n",
        "_ = titanic_data_frame.groupby('sex').agg({'survived': 'sum', 'who': 'count'}).plot.bar(title='Survival by Gender')"
      ],
      "execution_count": 3,
      "outputs": [
        {
          "output_type": "display_data",
          "data": {
            "image/png": "[encoded data removed]",
            "text/plain": [
              "<matplotlib.figure.Figure at 0x7ff916588690>"
            ]
          },
          "metadata": {
            "tags": []
          }
        }
      ]
    },
    {
      "metadata": {
        "id": "qndh3VGF8RSw",
        "colab_type": "text"
      },
      "cell_type": "markdown",
      "source": [
        "**Exercise 2:** Demonstrate reationship between `class` and `survived` using a bar chart.  Fill in the missing labels:\n"
      ]
    },
    {
      "metadata": {
        "id": "LIWgNRS082Cb",
        "colab_type": "code",
        "colab": {}
      },
      "cell_type": "code",
      "source": [
        "# This cell will throw an error if you don't replace the <values> below:\n",
        "exercise2 = titanic_data_frame.groupby('<replace with groupby target>').agg({   # what do we want on our x-axis?\n",
        "      'survived': '<replace with agg method>',                                  # how many people survived?\n",
        "      'who': '<replace with agg method>'                                        # how many people where there to begin with?\n",
        "  }).plot.bar(title='Survival by Class')"
      ],
      "execution_count": 0,
      "outputs": []
    },
    {
      "metadata": {
        "id": "vg7t-WTK3i0p",
        "colab_type": "text"
      },
      "cell_type": "markdown",
      "source": [
        "## Translate GA Observations into SQL Code\n",
        "We want to use BigQuery to extract our data and download that data into our Python Notebook. We'll then use Python libraries (ie. Pandas, NumPy) to further analyze and visualize the data. Finally, we'll apply machine learning to that data and analyze those results.\n",
        "\n",
        "### First, authenticate your Notebook with Google Cloud:"
      ]
    },
    {
      "metadata": {
        "id": "PUXT-gVtH710",
        "colab_type": "code",
        "colab": {}
      },
      "cell_type": "code",
      "source": [
        "from google.colab import auth\n",
        "auth.authenticate_user()"
      ],
      "execution_count": 0,
      "outputs": []
    },
    {
      "metadata": {
        "id": "TqaOS0pOICCS",
        "colab_type": "text"
      },
      "cell_type": "markdown",
      "source": [
        "<h3>Getting Familiar with BigQuery in Python</h3>\n",
        "<h4>The `%%magic` of BigQuery and Google Colaboratory</h4>\n",
        "\n",
        "Magic command which runs a query and displays the result, optionally saving it to a variable as a `DataFrame`.\n",
        "```\n",
        "    %%bigquery [<destination_var>] [--project <project>] [--use_legacy_sql] [--verbose]\n",
        "    <query>\n",
        " ```"
      ]
    },
    {
      "metadata": {
        "id": "c_7eK1SvJagO",
        "colab_type": "code",
        "colab": {
          "base_uri": "https://localhost:8080/",
          "height": 255
        },
        "outputId": "baf68246-d7de-4068-8d1a-f60dad302f2d"
      },
      "cell_type": "code",
      "source": [
        "# This example query is saved to a DataFrame called `df`\n",
        "%%bigquery df --project analyticspros.com:spotted-cinnamon-834 --verbose\n",
        "SELECT name, SUM(number) as count\n",
        "FROM `bigquery-public-data.usa_names.usa_1910_current`\n",
        "GROUP BY name\n",
        "ORDER BY count DESC\n",
        "LIMIT 5"
      ],
      "execution_count": 5,
      "outputs": [
        {
          "output_type": "stream",
          "text": [
            "Executing query with job ID: 1ae4249d-5a32-4833-9c08-347fbe54c375\n",
            "\rQuery executing: 0.55s\n",
            "Query complete after 0.77s\n"
          ],
          "name": "stdout"
        },
        {
          "output_type": "execute_result",
          "data": {
            "text/html": [
              "<div>\n",
              "<style scoped>\n",
              "    .dataframe tbody tr th:only-of-type {\n",
              "        vertical-align: middle;\n",
              "    }\n",
              "\n",
              "    .dataframe tbody tr th {\n",
              "        vertical-align: top;\n",
              "    }\n",
              "\n",
              "    .dataframe thead th {\n",
              "        text-align: right;\n",
              "    }\n",
              "</style>\n",
              "<table border=\"1\" class=\"dataframe\">\n",
              "  <thead>\n",
              "    <tr style=\"text-align: right;\">\n",
              "      <th></th>\n",
              "      <th>name</th>\n",
              "      <th>count</th>\n",
              "    </tr>\n",
              "  </thead>\n",
              "  <tbody>\n",
              "    <tr>\n",
              "      <th>0</th>\n",
              "      <td>James</td>\n",
              "      <td>5001762</td>\n",
              "    </tr>\n",
              "    <tr>\n",
              "      <th>1</th>\n",
              "      <td>John</td>\n",
              "      <td>4875934</td>\n",
              "    </tr>\n",
              "    <tr>\n",
              "      <th>2</th>\n",
              "      <td>Robert</td>\n",
              "      <td>4743843</td>\n",
              "    </tr>\n",
              "    <tr>\n",
              "      <th>3</th>\n",
              "      <td>Michael</td>\n",
              "      <td>4354622</td>\n",
              "    </tr>\n",
              "    <tr>\n",
              "      <th>4</th>\n",
              "      <td>William</td>\n",
              "      <td>3886371</td>\n",
              "    </tr>\n",
              "  </tbody>\n",
              "</table>\n",
              "</div>"
            ],
            "text/plain": [
              "      name    count\n",
              "0    James  5001762\n",
              "1     John  4875934\n",
              "2   Robert  4743843\n",
              "3  Michael  4354622\n",
              "4  William  3886371"
            ]
          },
          "metadata": {
            "tags": []
          },
          "execution_count": 5
        }
      ]
    },
    {
      "metadata": {
        "id": "OzDHLiPHO15h",
        "colab_type": "text"
      },
      "cell_type": "markdown",
      "source": [
        "###Querying the `ga_sessions_*` tables\n",
        "<img src=\"https://www.strunkmedia.com/wp-content/uploads/2018/01/google-analytics.png\" width=\"300px\">  \n",
        "Before we get to building a query to use in our clustering analysis, we're going to review some of the basics around the BigQuery GA Export Schema:  \n",
        "**GA Support Article:** https://support.google.com/analytics/answer/3437719?hl=en  \n",
        "**Luna Metrics BQ Recipes:** https://www.lunametrics.com/labs/bigquery-recipes/  \n",
        "**Analytics Pros Cookbook:** *(outdated)* https://www.analyticspros.com/wp-content/uploads/2016/11/AP_BigQuery-Cheat-Sheet_Web-Format.pdf   \n",
        "**Luka's BQ Challenge:** https://colab.research.google.com/drive/18TBZ_EWmaLEx4RMe5GL5S6drhC9eGF6e \n",
        "\n",
        "**Example fields from the GA Export Schema:**  \n",
        "\n",
        "    fullVisitorId        STRING\t    The unique visitor ID (also known as client ID)\n",
        "    totals\t           RECORD\t    This section contains aggregate values across the session.\n",
        "    visitStartTime\t   INTEGER\t   The timestamp (expressed as POSIX time).\n",
        "    date\t             STRING\t    The date of the session in YYYYMMDD format. \n",
        "    channelGrouping  \tSTRING\t    The Default Channel Group associated with an end user's session for this View.\n",
        "    "
      ]
    },
    {
      "metadata": {
        "id": "I9k3VNVZUKGi",
        "colab_type": "text"
      },
      "cell_type": "markdown",
      "source": [
        "[GA Channel data for 2017-08-01](https://analytics.google.com/analytics/web/?utm_source=demoaccount&utm_medium=demoaccount&utm_campaign=demoaccount#/report/acquisition-channels/a54516992w87479473p92320289/_u.date00=20170801&_u.date01=20170801/)\n",
        "\n",
        "<img src='https://storage.googleapis.com/pats-test/clustering/ga_20170801_channel_data.png' width='700px'>\n",
        "\n",
        "**NOTICE:** You'll see a discrepancy between GA and BigQuery using the Google Merchandise Store dataset. This is due to anonmization that occured in making the `ga_session_` data public. When you are working in production on behalf of your clients you want exact pairity between GA and BigQuery."
      ]
    },
    {
      "metadata": {
        "id": "7TqsOl4XO06d",
        "colab_type": "code",
        "colab": {
          "base_uri": "https://localhost:8080/",
          "height": 266
        },
        "outputId": "0d72d451-1e67-494c-fe3d-55e9145ac816"
      },
      "cell_type": "code",
      "source": [
        "# Select users, new users, and sessions by channel from GA Public Dataset:\n",
        "%%bigquery df --project analyticspros.com:spotted-cinnamon-834\n",
        "SELECT\n",
        "  channelGrouping AS channel,\n",
        "  COUNT(DISTINCT fullVisitorId) AS users,\n",
        "  SUM(totals.newVisits) as newUsers,\n",
        "  SUM(totals.visits) AS sessions\n",
        "FROM\n",
        "  `bigquery-public-data.google_analytics_sample.ga_sessions_20170801`\n",
        "GROUP BY\n",
        "  channel\n",
        "ORDER BY users DESC"
      ],
      "execution_count": 6,
      "outputs": [
        {
          "output_type": "execute_result",
          "data": {
            "text/html": [
              "<div>\n",
              "<style scoped>\n",
              "    .dataframe tbody tr th:only-of-type {\n",
              "        vertical-align: middle;\n",
              "    }\n",
              "\n",
              "    .dataframe tbody tr th {\n",
              "        vertical-align: top;\n",
              "    }\n",
              "\n",
              "    .dataframe thead th {\n",
              "        text-align: right;\n",
              "    }\n",
              "</style>\n",
              "<table border=\"1\" class=\"dataframe\">\n",
              "  <thead>\n",
              "    <tr style=\"text-align: right;\">\n",
              "      <th></th>\n",
              "      <th>channel</th>\n",
              "      <th>users</th>\n",
              "      <th>newUsers</th>\n",
              "      <th>sessions</th>\n",
              "    </tr>\n",
              "  </thead>\n",
              "  <tbody>\n",
              "    <tr>\n",
              "      <th>0</th>\n",
              "      <td>Organic Search</td>\n",
              "      <td>1267</td>\n",
              "      <td>1096</td>\n",
              "      <td>1346</td>\n",
              "    </tr>\n",
              "    <tr>\n",
              "      <th>1</th>\n",
              "      <td>Referral</td>\n",
              "      <td>368</td>\n",
              "      <td>190</td>\n",
              "      <td>436</td>\n",
              "    </tr>\n",
              "    <tr>\n",
              "      <th>2</th>\n",
              "      <td>Direct</td>\n",
              "      <td>355</td>\n",
              "      <td>302</td>\n",
              "      <td>400</td>\n",
              "    </tr>\n",
              "    <tr>\n",
              "      <th>3</th>\n",
              "      <td>Social</td>\n",
              "      <td>207</td>\n",
              "      <td>189</td>\n",
              "      <td>213</td>\n",
              "    </tr>\n",
              "    <tr>\n",
              "      <th>4</th>\n",
              "      <td>Paid Search</td>\n",
              "      <td>61</td>\n",
              "      <td>40</td>\n",
              "      <td>70</td>\n",
              "    </tr>\n",
              "    <tr>\n",
              "      <th>5</th>\n",
              "      <td>Affiliates</td>\n",
              "      <td>49</td>\n",
              "      <td>42</td>\n",
              "      <td>52</td>\n",
              "    </tr>\n",
              "    <tr>\n",
              "      <th>6</th>\n",
              "      <td>Display</td>\n",
              "      <td>30</td>\n",
              "      <td>13</td>\n",
              "      <td>39</td>\n",
              "    </tr>\n",
              "  </tbody>\n",
              "</table>\n",
              "</div>"
            ],
            "text/plain": [
              "          channel  users  newUsers  sessions\n",
              "0  Organic Search   1267      1096      1346\n",
              "1        Referral    368       190       436\n",
              "2          Direct    355       302       400\n",
              "3          Social    207       189       213\n",
              "4     Paid Search     61        40        70\n",
              "5      Affiliates     49        42        52\n",
              "6         Display     30        13        39"
            ]
          },
          "metadata": {
            "tags": []
          },
          "execution_count": 6
        }
      ]
    },
    {
      "metadata": {
        "id": "mlTTI5JOVSDq",
        "colab_type": "code",
        "colab": {
          "base_uri": "https://localhost:8080/",
          "height": 85
        },
        "outputId": "43104aca-e6d2-49a7-9554-f083cfd7c7f7"
      },
      "cell_type": "code",
      "source": [
        "# The result of the query was saved into the `DataFrame` named `df`\n",
        "# Print the sum totals for these three columns:\n",
        "df[['users', 'newUsers', 'sessions']].sum()"
      ],
      "execution_count": 7,
      "outputs": [
        {
          "output_type": "execute_result",
          "data": {
            "text/plain": [
              "users       2337\n",
              "newUsers    1872\n",
              "sessions    2556\n",
              "dtype: int64"
            ]
          },
          "metadata": {
            "tags": []
          },
          "execution_count": 7
        }
      ]
    },
    {
      "metadata": {
        "id": "4wKdYYfXWxT2",
        "colab_type": "text"
      },
      "cell_type": "markdown",
      "source": [
        "### Building Clustering SQL Code - using `fullVisitorId`\n",
        "Clustering Analysis is performed on users, and to perform analysis on users we need to structure our SQL queries to return data (features) by a user. In the GA Export Schema, a user is most simply represented by the `fullVisitorId` field. User data would be representated as each row having a distinct `fullVisitorId` and subsequent columns are aggregate metrics/dimensions for that specific user."
      ]
    },
    {
      "metadata": {
        "id": "aQM-JBKLfBJA",
        "colab_type": "code",
        "colab": {
          "base_uri": "https://localhost:8080/",
          "height": 359
        },
        "outputId": "92d33840-a668-4e9c-dcbc-1db39a77666b"
      },
      "cell_type": "code",
      "source": [
        "%%bigquery first_clustering_df --project analyticspros.com:spotted-cinnamon-834\n",
        "SELECT\n",
        "  fullVisitorId,\n",
        "  SUM(totals.pageviews) AS pageviews,\n",
        "  SUM(totals.totalTransactionRevenue / 1e6) AS revenue\n",
        "FROM\n",
        "  `bigquery-public-data.google_analytics_sample.ga_sessions_*`                  -- ga_sessions_* will return all dates, be sure to use _TABLE_SUFFIX BETWEEN X AND Y to limit output\n",
        "WHERE _TABLE_SUFFIX BETWEEN '20170701' AND '20170707'                           -- set a date range using _TABLE_SUFFIX BETWEEN '<YYYYMMDD>' AND '<YYYYMMDD>'\n",
        "GROUP BY fullVisitorId                                                          -- aggregate all results by `fullVisitorId`\n",
        "HAVING revenue < 500                                                            -- remove outliers,  only return results for users with less than $500 in revenue\n",
        "ORDER BY revenue DESC                                                           -- order results by revenue, descending\n",
        "LIMIT 10                                                                        -- limit results to keep analysis simple"
      ],
      "execution_count": 8,
      "outputs": [
        {
          "output_type": "execute_result",
          "data": {
            "text/html": [
              "<div>\n",
              "<style scoped>\n",
              "    .dataframe tbody tr th:only-of-type {\n",
              "        vertical-align: middle;\n",
              "    }\n",
              "\n",
              "    .dataframe tbody tr th {\n",
              "        vertical-align: top;\n",
              "    }\n",
              "\n",
              "    .dataframe thead th {\n",
              "        text-align: right;\n",
              "    }\n",
              "</style>\n",
              "<table border=\"1\" class=\"dataframe\">\n",
              "  <thead>\n",
              "    <tr style=\"text-align: right;\">\n",
              "      <th></th>\n",
              "      <th>fullVisitorId</th>\n",
              "      <th>pageviews</th>\n",
              "      <th>revenue</th>\n",
              "    </tr>\n",
              "  </thead>\n",
              "  <tbody>\n",
              "    <tr>\n",
              "      <th>0</th>\n",
              "      <td>4068416534578096540</td>\n",
              "      <td>33</td>\n",
              "      <td>392.54</td>\n",
              "    </tr>\n",
              "    <tr>\n",
              "      <th>1</th>\n",
              "      <td>8197879643797712877</td>\n",
              "      <td>100</td>\n",
              "      <td>382.94</td>\n",
              "    </tr>\n",
              "    <tr>\n",
              "      <th>2</th>\n",
              "      <td>4352760646905266733</td>\n",
              "      <td>38</td>\n",
              "      <td>381.54</td>\n",
              "    </tr>\n",
              "    <tr>\n",
              "      <th>3</th>\n",
              "      <td>1675171647898452800</td>\n",
              "      <td>16</td>\n",
              "      <td>340.92</td>\n",
              "    </tr>\n",
              "    <tr>\n",
              "      <th>4</th>\n",
              "      <td>5772921781547143127</td>\n",
              "      <td>41</td>\n",
              "      <td>324.90</td>\n",
              "    </tr>\n",
              "    <tr>\n",
              "      <th>5</th>\n",
              "      <td>454845221896711463</td>\n",
              "      <td>18</td>\n",
              "      <td>267.70</td>\n",
              "    </tr>\n",
              "    <tr>\n",
              "      <th>6</th>\n",
              "      <td>4140559214164857738</td>\n",
              "      <td>34</td>\n",
              "      <td>252.66</td>\n",
              "    </tr>\n",
              "    <tr>\n",
              "      <th>7</th>\n",
              "      <td>8151349247637576196</td>\n",
              "      <td>29</td>\n",
              "      <td>248.29</td>\n",
              "    </tr>\n",
              "    <tr>\n",
              "      <th>8</th>\n",
              "      <td>4708133624098231997</td>\n",
              "      <td>39</td>\n",
              "      <td>247.92</td>\n",
              "    </tr>\n",
              "    <tr>\n",
              "      <th>9</th>\n",
              "      <td>4957622252319100547</td>\n",
              "      <td>26</td>\n",
              "      <td>242.85</td>\n",
              "    </tr>\n",
              "  </tbody>\n",
              "</table>\n",
              "</div>"
            ],
            "text/plain": [
              "         fullVisitorId  pageviews  revenue\n",
              "0  4068416534578096540         33   392.54\n",
              "1  8197879643797712877        100   382.94\n",
              "2  4352760646905266733         38   381.54\n",
              "3  1675171647898452800         16   340.92\n",
              "4  5772921781547143127         41   324.90\n",
              "5   454845221896711463         18   267.70\n",
              "6  4140559214164857738         34   252.66\n",
              "7  8151349247637576196         29   248.29\n",
              "8  4708133624098231997         39   247.92\n",
              "9  4957622252319100547         26   242.85"
            ]
          },
          "metadata": {
            "tags": []
          },
          "execution_count": 8
        }
      ]
    },
    {
      "metadata": {
        "id": "HShgEWm9gMLJ",
        "colab_type": "code",
        "colab": {
          "base_uri": "https://localhost:8080/",
          "height": 376
        },
        "outputId": "061db1cf-a98c-495f-ce69-3013947e0720"
      },
      "cell_type": "code",
      "source": [
        "data = first_clustering_df.drop('fullVisitorId', axis=1)                                           # create new object, `data`, wit the `fullVisitorId` removed\n",
        "_ = data.plot.scatter('pageviews', 'revenue',s=200, title='Pageviews by Revenue') # scatter plot the `data` object using `pageviews` vs `revenue`"
      ],
      "execution_count": 9,
      "outputs": [
        {
          "output_type": "display_data",
          "data": {
            "image/png": "[encoded data removed]",
            "text/plain": [
              "<matplotlib.figure.Figure at 0x7ff912f7f650>"
            ]
          },
          "metadata": {
            "tags": []
          }
        }
      ]
    },
    {
      "metadata": {
        "id": "R4wI3a8_hapP",
        "colab_type": "text"
      },
      "cell_type": "markdown",
      "source": [
        "### Your First Clustering Algorithm\n",
        "<img src='https://storage.googleapis.com/pats-test/clustering/clustering_algorithm.png' width='550px'>  \n",
        "**Exercise 3:** Adjust the slider below to change the value of `k`. Changing the value of `k` will change how many clusters are created.  \n",
        ">1) Try to predict the clusters in advance of them being calculated, did you predictions lineup with the result?  \n",
        ">2) Analyze the code to understand how we initialize the `kmeans` object and then generate cluster assignments.  \n",
        ">> i. What is the role of the `sklearn.cluster.KMeans` library?  \n",
        ">> ii. What is the role of the `matplotlib.pyplot` library?  \n",
        ">> iii. What is the maximum number of clusters you can generate for this data?"
      ]
    },
    {
      "metadata": {
        "id": "cWxsMATghY1X",
        "colab_type": "code",
        "colab": {
          "base_uri": "https://localhost:8080/",
          "height": 376
        },
        "outputId": "67a1bfb2-b6cd-4c88-c0a4-b79f4cf377d2"
      },
      "cell_type": "code",
      "source": [
        "#@title k-Means Clustering on Simple Dataset { run: \"auto\", vertical-output: true, form-width: \"600px\" }\n",
        "\n",
        "# k = number of clusters that are generated by the K-Means Algorithm\n",
        "k = 3 #@param {type:\"slider\", min:1, max:10, step:1}\n",
        "\n",
        "# import relevant libraries\n",
        "from sklearn.cluster import KMeans\n",
        "from matplotlib import pyplot as plt\n",
        "\n",
        "# run clustering algorithm on dataset\n",
        "kmeans = KMeans(n_clusters=k).fit(data)                                         # generate `k` clusters using 2-dimensional input dataframe\n",
        "first_clustering_df['cluster'] = kmeans.predict(data)                           # add cluster assignments to the `df` object as df['cluster']\n",
        "\n",
        "#plot results of cluster assignments to scatter plot\n",
        "fig, ax = plt.subplots()\n",
        "colors = plt.cm.tab10.colors                                                    # use the matplotlib colormap array called `tab10`\n",
        "ax.scatter(                        \n",
        "    first_clustering_df['pageviews'],                                           # x=data['pageviews']\n",
        "    first_clustering_df['revenue'],                                             # y=data['revenue']\n",
        "    c=first_clustering_df[\"cluster\"].apply(lambda x: colors[x]),                # color the values based on data['cluster'] assignment\n",
        "    s=200                                                                       # size (s) the scatter points to be `200` points\n",
        ")\n",
        "\n",
        "# add center points to plot\n",
        "for i in kmeans.cluster_centers_:                                               # for each cluster in the kmeans object, get the center points\n",
        "  ax.plot(i[0], i[1], 'x', markersize=20, markeredgewidth=1, color='black')     # add the cluster center points to the plot as a black X     \n",
        "\n",
        "# add labels to the plot  \n",
        "plt.xlabel('Pageviews')\n",
        "plt.ylabel('Revenue')\n",
        "plt.title('{} Clusters Generated using Mean of Pageviews vs. Revenue'.format(k))# dynamically title the chart using, including the value of `k`\n",
        "\n",
        "# print the plot\n",
        "plt.show()"
      ],
      "execution_count": 10,
      "outputs": [
        {
          "output_type": "display_data",
          "data": {
            "image/png": "[encoded data removed]",
            "text/plain": [
              "<matplotlib.figure.Figure at 0x7ff90e204cd0>"
            ]
          },
          "metadata": {
            "tags": []
          }
        }
      ]
    },
    {
      "metadata": {
        "id": "6KZZnT7G-zQ1",
        "colab_type": "text"
      },
      "cell_type": "markdown",
      "source": [
        "### Combing `hit` and `session` features for `fullVisitorId` data\n",
        "It is time to add the 5+ business observations you made to your SQL query. This will give our clustering algorithm the ability to factor in those data features into the model that is generated and used to assign clusters to users. We will then be able to analyze that output and assign business labels to those users.\n",
        "\n",
        "**First, recall your business observations:**"
      ]
    },
    {
      "metadata": {
        "id": "40v0Gn9d-y94",
        "colab_type": "code",
        "colab": {
          "base_uri": "https://localhost:8080/",
          "height": 102
        },
        "outputId": "66eae2a0-5006-4d80-cbb4-87a52ce3cc79"
      },
      "cell_type": "code",
      "source": [
        "for i in exercise1.keys():\n",
        "  print i,exercise1[i]"
      ],
      "execution_count": 11,
      "outputs": [
        {
          "output_type": "stream",
          "text": [
            "1 \n",
            "2 \n",
            "3 \n",
            "4 \n",
            "5 \n"
          ],
          "name": "stdout"
        }
      ]
    },
    {
      "metadata": {
        "id": "XhCK8-9tBQA9",
        "colab_type": "text"
      },
      "cell_type": "markdown",
      "source": [
        "<h4>Converting Business Observations into SQL Code:</h4>\n",
        "It is highly likely that your observations described  user behaviors that occured within sessions. For example, an observation like `'Users who purchased a nest product generated high revenue'` would require us to tap into session level behavior (ie. purchasing a Nest) and aggreate that to the user level.  \n",
        "\n",
        "Our goal is to understand the behaviors that lead to a conversion. We would rephrase this observation in another way: `'Do users who view Nest products generate higher revenue on the website?'` This form of the question will be more informative and let the data to most of the talking in clustering.\n",
        "\n",
        "We can express this question in SQL form as the following:\n",
        "\n",
        "    SELECT \n",
        "          fullVisitorId, \n",
        "          totals.totalTransactionRevenue / 1e6 as revenue,\n",
        "          SUM(IF(hits.page.pagePath LIKE \"/google+redesign/nest%\" AND hits.type = \"PAGE\", 1, 0)) as nest_views\n",
        "    FROM project.dataset.table_<date>, UNNEST(hits) as hits\n",
        "    GROUP BY fullVisitorId, totals.totalTransactionRevenue"
      ]
    },
    {
      "metadata": {
        "id": "QeOrPzL8_ogh",
        "colab_type": "code",
        "colab": {
          "base_uri": "https://localhost:8080/",
          "height": 235
        },
        "outputId": "1c9a99b9-746e-4042-c567-ac81329d2465"
      },
      "cell_type": "code",
      "source": [
        "%%bigquery example_sql --project analyticspros.com:spotted-cinnamon-834\n",
        "WITH session_data AS (\n",
        "  SELECT \n",
        "    fullVisitorId, \n",
        "    totals.totalTransactionRevenue / 1e6 as revenue, \n",
        "    totals.visits as sessions,\n",
        "  SUM(IF(hits.page.pagePath LIKE \"/google+redesign/nest%\" AND hits.type = \"PAGE\", 1, 0)) as nest_views\n",
        "  FROM\n",
        "    `bigquery-public-data.google_analytics_sample.ga_sessions_*`, unnest(hits) as hits   \n",
        "  WHERE _TABLE_SUFFIX BETWEEN '20170701' and '20170731'\n",
        "  GROUP BY 1,2,3\n",
        ")\n",
        "SELECT                                                                          -- The `data` query returns one row per session, we need to aggregate to have one row per user, returning user scoped results\n",
        "  fullVisitorId,                                                                \n",
        "  SUM(sessions) as total_sessions,                                              -- Use SUM() when we need to aggregate a `totals_*` metric, meaning total number of X observed by user \n",
        "  AVG(nest_views) as nest_views_per_session,                                    -- Use AVG() or STD() when we need to aggregate a `per session` metric, meaning [AGG()] of X observed by user over their sessions\n",
        "  AVG(revenue) as revenue_per_session\n",
        "FROM session_data\n",
        "GROUP BY fullVisitorId                                                          -- This final `group by fullVisitorId` will condense multiple sessions into one row\n",
        "HAVING (revenue_per_session > 0 and nest_views_per_session > 0)                 -- Having clause is only here to highlight example of high value visitors\n",
        "ORDER BY nest_views_per_session DESC"
      ],
      "execution_count": 12,
      "outputs": [
        {
          "output_type": "execute_result",
          "data": {
            "text/html": [
              "<div>\n",
              "<style scoped>\n",
              "    .dataframe tbody tr th:only-of-type {\n",
              "        vertical-align: middle;\n",
              "    }\n",
              "\n",
              "    .dataframe tbody tr th {\n",
              "        vertical-align: top;\n",
              "    }\n",
              "\n",
              "    .dataframe thead th {\n",
              "        text-align: right;\n",
              "    }\n",
              "</style>\n",
              "<table border=\"1\" class=\"dataframe\">\n",
              "  <thead>\n",
              "    <tr style=\"text-align: right;\">\n",
              "      <th></th>\n",
              "      <th>fullVisitorId</th>\n",
              "      <th>total_sessions</th>\n",
              "      <th>nest_views_per_session</th>\n",
              "      <th>revenue_per_session</th>\n",
              "    </tr>\n",
              "  </thead>\n",
              "  <tbody>\n",
              "    <tr>\n",
              "      <th>0</th>\n",
              "      <td>7567817112637547239</td>\n",
              "      <td>3</td>\n",
              "      <td>0.666667</td>\n",
              "      <td>146.58</td>\n",
              "    </tr>\n",
              "    <tr>\n",
              "      <th>1</th>\n",
              "      <td>6968323948324124881</td>\n",
              "      <td>2</td>\n",
              "      <td>0.500000</td>\n",
              "      <td>28.99</td>\n",
              "    </tr>\n",
              "    <tr>\n",
              "      <th>2</th>\n",
              "      <td>0143782636543876435</td>\n",
              "      <td>2</td>\n",
              "      <td>0.500000</td>\n",
              "      <td>78.98</td>\n",
              "    </tr>\n",
              "    <tr>\n",
              "      <th>3</th>\n",
              "      <td>3221924345288041502</td>\n",
              "      <td>2</td>\n",
              "      <td>0.500000</td>\n",
              "      <td>13.80</td>\n",
              "    </tr>\n",
              "    <tr>\n",
              "      <th>4</th>\n",
              "      <td>5962830800899970265</td>\n",
              "      <td>2</td>\n",
              "      <td>0.500000</td>\n",
              "      <td>29.79</td>\n",
              "    </tr>\n",
              "    <tr>\n",
              "      <th>5</th>\n",
              "      <td>081281456829886913</td>\n",
              "      <td>2</td>\n",
              "      <td>0.500000</td>\n",
              "      <td>81.71</td>\n",
              "    </tr>\n",
              "  </tbody>\n",
              "</table>\n",
              "</div>"
            ],
            "text/plain": [
              "         fullVisitorId  total_sessions  nest_views_per_session  \\\n",
              "0  7567817112637547239               3                0.666667   \n",
              "1  6968323948324124881               2                0.500000   \n",
              "2  0143782636543876435               2                0.500000   \n",
              "3  3221924345288041502               2                0.500000   \n",
              "4  5962830800899970265               2                0.500000   \n",
              "5   081281456829886913               2                0.500000   \n",
              "\n",
              "   revenue_per_session  \n",
              "0               146.58  \n",
              "1                28.99  \n",
              "2                78.98  \n",
              "3                13.80  \n",
              "4                29.79  \n",
              "5                81.71  "
            ]
          },
          "metadata": {
            "tags": []
          },
          "execution_count": 12
        }
      ]
    },
    {
      "metadata": {
        "id": "9E8ySv13V8OM",
        "colab_type": "text"
      },
      "cell_type": "markdown",
      "source": [
        "**Exercise 4:** Now you have an example of how to aggregate session based behaviors into a user scoped result. \n",
        ">1) Incorporate your remaining observations into your SQL query by adding to the example below  \n",
        ">2) Decide for each metric whether to aggregate it as a `totals` or `per session` scoped value  \n",
        ">3) Add as many `totals RECORD` fields as is relevant, in addition to site behavior metrics  \n",
        ">4) *BONUS POINTS:* Incorporate a custom dimension or event into your SQL query"
      ]
    },
    {
      "metadata": {
        "id": "jmhAWuOYY88G",
        "colab_type": "code",
        "colab": {}
      },
      "cell_type": "code",
      "source": [
        "%%bigquery exercise4 --project analyticspros.com:spotted-cinnamon-834\n",
        "WITH session_data AS (\n",
        "  SELECT \n",
        "    fullVisitorId, \n",
        "    totals.totalTransactionRevenue / 1e6 as revenue, \n",
        "    totals.visits as sessions,\n",
        "    SUM(IF(hits.page.pagePath LIKE \"/google+redesign/nest%\" AND hits.type = \"PAGE\", 1, 0)) as nest_views,\n",
        "  \n",
        "  --  ADD MORE SESSION METRICS\n",
        "  \n",
        "  FROM\n",
        "    `bigquery-public-data.google_analytics_sample.ga_sessions_*`, unnest(hits) as hits   \n",
        "  WHERE _TABLE_SUFFIX BETWEEN '20170701' and '20170707'                         -- adjust date range as needed; for final use '20160801' through '20170801'\n",
        "  AND ( device.deviceCategory in (\"desktop\", \"tablet\"))                         -- assumption that desktop/tablet are drastically different experiences than mobile \n",
        "  GROUP BY 1,2,3, -- ADD MORE SESSION GROUP BY FIELDS\n",
        ")\n",
        "SELECT \n",
        "  fullVisitorId,                                                                \n",
        "  SUM(sessions) as total_sessions,\n",
        "  AVG(nest_views) as nest_views_per_session,\n",
        "  AVG(revenue) as revenue_per_session,\n",
        "  \n",
        "  -- AGGREATE SESSION METRICS TO USER LEVEL\n",
        "  \n",
        "  \n",
        "FROM session_data\n",
        "GROUP BY fullVisitorId"
      ],
      "execution_count": 0,
      "outputs": []
    },
    {
      "metadata": {
        "id": "LvAZ9ajMf9Jr",
        "colab_type": "text"
      },
      "cell_type": "markdown",
      "source": [
        "#### Spoiler: Answer"
      ]
    },
    {
      "metadata": {
        "id": "O9i2eEDbcQQI",
        "colab_type": "code",
        "colab": {}
      },
      "cell_type": "code",
      "source": [
        "%%bigquery exercise4 --project analyticspros.com:spotted-cinnamon-834\n",
        "\n",
        "WITH session_data AS (\n",
        "  SELECT \n",
        "    fullVisitorId, \n",
        "    \n",
        "    totals.transactions as transactions,\n",
        "    totals.totalTransactionRevenue / 1e6 as revenue, \n",
        "    totals.visits as sessions,\n",
        "    totals.timeOnSite as time_on_site,\n",
        "    totals.pageviews as pageviews,\n",
        "    totals.hits as ga_hits,\n",
        "    totals.sessionQualityDim as session_quality,\n",
        "\n",
        "    SUM(IF(hits.page.pagePath LIKE \"/google+redesign/nest%\" AND hits.type = \"PAGE\", 1, 0)) as nest_views,\n",
        "    SUM(IF(hits.page.pagePath LIKE \"/google+redesign/apparel%\" AND hits.type = \"PAGE\", 1, 0)) as apparel_views,\n",
        "    SUM(IF(hits.page.pagePath LIKE \"/google+redesign/bags%\" AND hits.type = \"PAGE\", 1, 0)) as bag_views,\n",
        "    SUM(IF(hits.page.pagePath LIKE \"/google+redesign/office%\" AND hits.type = \"PAGE\", 1, 0)) as office_views,\n",
        "    SUM(IF(hits.page.pagePath LIKE \"/google+redesign/accessories%\" AND hits.type = \"PAGE\", 1, 0)) as accessory_views\n",
        "    \n",
        "  FROM\n",
        "    `bigquery-public-data.google_analytics_sample.ga_sessions_*`, unnest(hits) as hits   \n",
        "  WHERE _TABLE_SUFFIX BETWEEN '20170701' and '20170731'                         -- adjust date range as needed; for final use '20160801' through '20170801'\n",
        "  AND ( device.deviceCategory in (\"desktop\", \"tablet\"))                         -- assumption that desktop/tablet are drastically different experiences than mobile \n",
        "  GROUP BY 1,2,3,4,5,6,7,8\n",
        ")\n",
        "\n",
        "SELECT \n",
        "  fullVisitorId,                                                                \n",
        "  SUM(sessions) as total_sessions,\n",
        "  SUM(transactions) as total_transactions,\n",
        "  SUM(revenue) as total_revenue,\n",
        "  AVG(session_quality) as avg_session_quality,\n",
        "  AVG(pageviews) as avg_pageviews,\n",
        "  AVG(time_on_site) as avg_time_on_site,\n",
        "  AVG(ga_hits) as avg_hits,\n",
        "  AVG(nest_views) as avg_nest_views,\n",
        "  AVG(apparel_views) as avg_apparel_views,\n",
        "  AVG(bag_views) as avg_bag_views,\n",
        "  AVG(office_views) as avg_office_views,\n",
        "  AVG(accessory_views) as avg_accessory_views\n",
        " \n",
        "FROM session_data\n",
        "GROUP BY fullVisitorId"
      ],
      "execution_count": 0,
      "outputs": []
    },
    {
      "metadata": {
        "id": "RRc2mppsgPKp",
        "colab_type": "text"
      },
      "cell_type": "markdown",
      "source": [
        "### Analyze Results of SQL Query"
      ]
    },
    {
      "metadata": {
        "id": "my0i5IRDfE_B",
        "colab_type": "code",
        "colab": {
          "base_uri": "https://localhost:8080/",
          "height": 297
        },
        "outputId": "c18f8e17-51b0-4d6e-aa53-8247e275231e"
      },
      "cell_type": "code",
      "source": [
        "# Replace `NaN` (Not a Number) values with a 0,  print DataFrame statistics:\n",
        "exercise4.fillna(0,inplace=True)\n",
        "exercise4.describe()"
      ],
      "execution_count": 15,
      "outputs": [
        {
          "output_type": "execute_result",
          "data": {
            "text/html": [
              "<div>\n",
              "<style scoped>\n",
              "    .dataframe tbody tr th:only-of-type {\n",
              "        vertical-align: middle;\n",
              "    }\n",
              "\n",
              "    .dataframe tbody tr th {\n",
              "        vertical-align: top;\n",
              "    }\n",
              "\n",
              "    .dataframe thead th {\n",
              "        text-align: right;\n",
              "    }\n",
              "</style>\n",
              "<table border=\"1\" class=\"dataframe\">\n",
              "  <thead>\n",
              "    <tr style=\"text-align: right;\">\n",
              "      <th></th>\n",
              "      <th>total_sessions</th>\n",
              "      <th>total_transactions</th>\n",
              "      <th>total_revenue</th>\n",
              "      <th>avg_session_quality</th>\n",
              "      <th>avg_pageviews</th>\n",
              "      <th>avg_time_on_site</th>\n",
              "      <th>avg_hits</th>\n",
              "      <th>avg_nest_views</th>\n",
              "      <th>avg_apparel_views</th>\n",
              "      <th>avg_bag_views</th>\n",
              "      <th>avg_office_views</th>\n",
              "      <th>avg_accessory_views</th>\n",
              "    </tr>\n",
              "  </thead>\n",
              "  <tbody>\n",
              "    <tr>\n",
              "      <th>count</th>\n",
              "      <td>38966.000000</td>\n",
              "      <td>38966.000000</td>\n",
              "      <td>38966.000000</td>\n",
              "      <td>38966.000000</td>\n",
              "      <td>38966.000000</td>\n",
              "      <td>38966.000000</td>\n",
              "      <td>38966.000000</td>\n",
              "      <td>38966.000000</td>\n",
              "      <td>38966.000000</td>\n",
              "      <td>38966.000000</td>\n",
              "      <td>38966.000000</td>\n",
              "      <td>38966.000000</td>\n",
              "    </tr>\n",
              "    <tr>\n",
              "      <th>mean</th>\n",
              "      <td>1.187856</td>\n",
              "      <td>0.025099</td>\n",
              "      <td>3.948443</td>\n",
              "      <td>3.779189</td>\n",
              "      <td>3.691010</td>\n",
              "      <td>147.258517</td>\n",
              "      <td>4.397414</td>\n",
              "      <td>0.004615</td>\n",
              "      <td>0.655778</td>\n",
              "      <td>0.300583</td>\n",
              "      <td>0.165647</td>\n",
              "      <td>0.224140</td>\n",
              "    </tr>\n",
              "    <tr>\n",
              "      <th>std</th>\n",
              "      <td>0.722410</td>\n",
              "      <td>0.181490</td>\n",
              "      <td>216.994764</td>\n",
              "      <td>10.986770</td>\n",
              "      <td>5.581502</td>\n",
              "      <td>356.206540</td>\n",
              "      <td>7.682810</td>\n",
              "      <td>0.086259</td>\n",
              "      <td>1.880140</td>\n",
              "      <td>1.094876</td>\n",
              "      <td>0.833577</td>\n",
              "      <td>0.833638</td>\n",
              "    </tr>\n",
              "    <tr>\n",
              "      <th>min</th>\n",
              "      <td>1.000000</td>\n",
              "      <td>0.000000</td>\n",
              "      <td>0.000000</td>\n",
              "      <td>0.000000</td>\n",
              "      <td>1.000000</td>\n",
              "      <td>0.000000</td>\n",
              "      <td>1.000000</td>\n",
              "      <td>0.000000</td>\n",
              "      <td>0.000000</td>\n",
              "      <td>0.000000</td>\n",
              "      <td>0.000000</td>\n",
              "      <td>0.000000</td>\n",
              "    </tr>\n",
              "    <tr>\n",
              "      <th>25%</th>\n",
              "      <td>1.000000</td>\n",
              "      <td>0.000000</td>\n",
              "      <td>0.000000</td>\n",
              "      <td>1.000000</td>\n",
              "      <td>1.000000</td>\n",
              "      <td>0.000000</td>\n",
              "      <td>1.000000</td>\n",
              "      <td>0.000000</td>\n",
              "      <td>0.000000</td>\n",
              "      <td>0.000000</td>\n",
              "      <td>0.000000</td>\n",
              "      <td>0.000000</td>\n",
              "    </tr>\n",
              "    <tr>\n",
              "      <th>50%</th>\n",
              "      <td>1.000000</td>\n",
              "      <td>0.000000</td>\n",
              "      <td>0.000000</td>\n",
              "      <td>1.000000</td>\n",
              "      <td>2.000000</td>\n",
              "      <td>6.000000</td>\n",
              "      <td>2.000000</td>\n",
              "      <td>0.000000</td>\n",
              "      <td>0.000000</td>\n",
              "      <td>0.000000</td>\n",
              "      <td>0.000000</td>\n",
              "      <td>0.000000</td>\n",
              "    </tr>\n",
              "    <tr>\n",
              "      <th>75%</th>\n",
              "      <td>1.000000</td>\n",
              "      <td>0.000000</td>\n",
              "      <td>0.000000</td>\n",
              "      <td>1.000000</td>\n",
              "      <td>4.000000</td>\n",
              "      <td>116.000000</td>\n",
              "      <td>4.000000</td>\n",
              "      <td>0.000000</td>\n",
              "      <td>0.666667</td>\n",
              "      <td>0.000000</td>\n",
              "      <td>0.000000</td>\n",
              "      <td>0.000000</td>\n",
              "    </tr>\n",
              "    <tr>\n",
              "      <th>max</th>\n",
              "      <td>31.000000</td>\n",
              "      <td>9.000000</td>\n",
              "      <td>41810.850000</td>\n",
              "      <td>96.000000</td>\n",
              "      <td>122.000000</td>\n",
              "      <td>8369.000000</td>\n",
              "      <td>170.000000</td>\n",
              "      <td>8.000000</td>\n",
              "      <td>62.000000</td>\n",
              "      <td>28.000000</td>\n",
              "      <td>44.000000</td>\n",
              "      <td>16.000000</td>\n",
              "    </tr>\n",
              "  </tbody>\n",
              "</table>\n",
              "</div>"
            ],
            "text/plain": [
              "       total_sessions  total_transactions  total_revenue  avg_session_quality  \\\n",
              "count    38966.000000        38966.000000   38966.000000         38966.000000   \n",
              "mean         1.187856            0.025099       3.948443             3.779189   \n",
              "std          0.722410            0.181490     216.994764            10.986770   \n",
              "min          1.000000            0.000000       0.000000             0.000000   \n",
              "25%          1.000000            0.000000       0.000000             1.000000   \n",
              "50%          1.000000            0.000000       0.000000             1.000000   \n",
              "75%          1.000000            0.000000       0.000000             1.000000   \n",
              "max         31.000000            9.000000   41810.850000            96.000000   \n",
              "\n",
              "       avg_pageviews  avg_time_on_site      avg_hits  avg_nest_views  \\\n",
              "count   38966.000000      38966.000000  38966.000000    38966.000000   \n",
              "mean        3.691010        147.258517      4.397414        0.004615   \n",
              "std         5.581502        356.206540      7.682810        0.086259   \n",
              "min         1.000000          0.000000      1.000000        0.000000   \n",
              "25%         1.000000          0.000000      1.000000        0.000000   \n",
              "50%         2.000000          6.000000      2.000000        0.000000   \n",
              "75%         4.000000        116.000000      4.000000        0.000000   \n",
              "max       122.000000       8369.000000    170.000000        8.000000   \n",
              "\n",
              "       avg_apparel_views  avg_bag_views  avg_office_views  avg_accessory_views  \n",
              "count       38966.000000   38966.000000      38966.000000         38966.000000  \n",
              "mean            0.655778       0.300583          0.165647             0.224140  \n",
              "std             1.880140       1.094876          0.833577             0.833638  \n",
              "min             0.000000       0.000000          0.000000             0.000000  \n",
              "25%             0.000000       0.000000          0.000000             0.000000  \n",
              "50%             0.000000       0.000000          0.000000             0.000000  \n",
              "75%             0.666667       0.000000          0.000000             0.000000  \n",
              "max            62.000000      28.000000         44.000000            16.000000  "
            ]
          },
          "metadata": {
            "tags": []
          },
          "execution_count": 15
        }
      ]
    },
    {
      "metadata": {
        "id": "BOnsbKYohfTh",
        "colab_type": "text"
      },
      "cell_type": "markdown",
      "source": [
        "## Data Preparation for Machine Learning\n",
        "### Data Standardization\n",
        "<img src='http://scikit-learn.org/stable/_images/sphx_glr_plot_all_scaling_002.png' width='700'>  \n",
        "As we can see from the statistics graph above, our data is wildly varied and tends to have the distribution skew close to zero. The data also has outliers, zero values, and originally had null values. These are all things that can impact the utility of machine learning processing, so we account for this with preparation.  \n",
        "\n",
        "A very simple first step to preparing your data for machine learning is to apply `Standardization`. This process attempts to scale the values to be normally distributed, with the mean sitting as close to zero as possible. We need to do this for all features in the data, thankfully there are ML Libraries to make this easy.\n",
        "                                                                                                    \n",
        "                                                                                                    \n"
      ]
    },
    {
      "metadata": {
        "id": "gdYXEd6riyL1",
        "colab_type": "code",
        "colab": {
          "base_uri": "https://localhost:8080/",
          "height": 297
        },
        "outputId": "36d3c8cf-7b17-4239-ff02-9dd88791477c"
      },
      "cell_type": "code",
      "source": [
        "from sklearn.preprocessing import StandardScaler\n",
        "data_cluster = exercise4.drop('fullVisitorId', axis=1)\n",
        "\n",
        "standard_scaler = StandardScaler()\n",
        "stand_scaled = standard_scaler.fit_transform(data_cluster)\n",
        "std_exercise4 = pd.DataFrame(stand_scaled, columns=data_cluster.columns)\n",
        "\n",
        "std_exercise4.describe()"
      ],
      "execution_count": 16,
      "outputs": [
        {
          "output_type": "execute_result",
          "data": {
            "text/html": [
              "<div>\n",
              "<style scoped>\n",
              "    .dataframe tbody tr th:only-of-type {\n",
              "        vertical-align: middle;\n",
              "    }\n",
              "\n",
              "    .dataframe tbody tr th {\n",
              "        vertical-align: top;\n",
              "    }\n",
              "\n",
              "    .dataframe thead th {\n",
              "        text-align: right;\n",
              "    }\n",
              "</style>\n",
              "<table border=\"1\" class=\"dataframe\">\n",
              "  <thead>\n",
              "    <tr style=\"text-align: right;\">\n",
              "      <th></th>\n",
              "      <th>total_sessions</th>\n",
              "      <th>total_transactions</th>\n",
              "      <th>total_revenue</th>\n",
              "      <th>avg_session_quality</th>\n",
              "      <th>avg_pageviews</th>\n",
              "      <th>avg_time_on_site</th>\n",
              "      <th>avg_hits</th>\n",
              "      <th>avg_nest_views</th>\n",
              "      <th>avg_apparel_views</th>\n",
              "      <th>avg_bag_views</th>\n",
              "      <th>avg_office_views</th>\n",
              "      <th>avg_accessory_views</th>\n",
              "    </tr>\n",
              "  </thead>\n",
              "  <tbody>\n",
              "    <tr>\n",
              "      <th>count</th>\n",
              "      <td>3.896600e+04</td>\n",
              "      <td>3.896600e+04</td>\n",
              "      <td>3.896600e+04</td>\n",
              "      <td>3.896600e+04</td>\n",
              "      <td>3.896600e+04</td>\n",
              "      <td>3.896600e+04</td>\n",
              "      <td>3.896600e+04</td>\n",
              "      <td>3.896600e+04</td>\n",
              "      <td>3.896600e+04</td>\n",
              "      <td>3.896600e+04</td>\n",
              "      <td>3.896600e+04</td>\n",
              "      <td>3.896600e+04</td>\n",
              "    </tr>\n",
              "    <tr>\n",
              "      <th>mean</th>\n",
              "      <td>-1.400444e-16</td>\n",
              "      <td>5.835181e-18</td>\n",
              "      <td>-1.458795e-18</td>\n",
              "      <td>-1.167036e-17</td>\n",
              "      <td>-1.633851e-16</td>\n",
              "      <td>4.668145e-17</td>\n",
              "      <td>8.169254e-17</td>\n",
              "      <td>-3.646988e-18</td>\n",
              "      <td>-7.002218e-17</td>\n",
              "      <td>-7.002218e-17</td>\n",
              "      <td>1.750554e-17</td>\n",
              "      <td>-2.334073e-17</td>\n",
              "    </tr>\n",
              "    <tr>\n",
              "      <th>std</th>\n",
              "      <td>1.000013e+00</td>\n",
              "      <td>1.000013e+00</td>\n",
              "      <td>1.000013e+00</td>\n",
              "      <td>1.000013e+00</td>\n",
              "      <td>1.000013e+00</td>\n",
              "      <td>1.000013e+00</td>\n",
              "      <td>1.000013e+00</td>\n",
              "      <td>1.000013e+00</td>\n",
              "      <td>1.000013e+00</td>\n",
              "      <td>1.000013e+00</td>\n",
              "      <td>1.000013e+00</td>\n",
              "      <td>1.000013e+00</td>\n",
              "    </tr>\n",
              "    <tr>\n",
              "      <th>min</th>\n",
              "      <td>-2.600442e-01</td>\n",
              "      <td>-1.382948e-01</td>\n",
              "      <td>-1.819626e-02</td>\n",
              "      <td>-3.439807e-01</td>\n",
              "      <td>-4.821363e-01</td>\n",
              "      <td>-4.134130e-01</td>\n",
              "      <td>-4.422155e-01</td>\n",
              "      <td>-5.350200e-02</td>\n",
              "      <td>-3.487968e-01</td>\n",
              "      <td>-2.745402e-01</td>\n",
              "      <td>-1.987211e-01</td>\n",
              "      <td>-2.688735e-01</td>\n",
              "    </tr>\n",
              "    <tr>\n",
              "      <th>25%</th>\n",
              "      <td>-2.600442e-01</td>\n",
              "      <td>-1.382948e-01</td>\n",
              "      <td>-1.819626e-02</td>\n",
              "      <td>-2.529610e-01</td>\n",
              "      <td>-4.821363e-01</td>\n",
              "      <td>-4.134130e-01</td>\n",
              "      <td>-4.422155e-01</td>\n",
              "      <td>-5.350200e-02</td>\n",
              "      <td>-3.487968e-01</td>\n",
              "      <td>-2.745402e-01</td>\n",
              "      <td>-1.987211e-01</td>\n",
              "      <td>-2.688735e-01</td>\n",
              "    </tr>\n",
              "    <tr>\n",
              "      <th>50%</th>\n",
              "      <td>-2.600442e-01</td>\n",
              "      <td>-1.382948e-01</td>\n",
              "      <td>-1.819626e-02</td>\n",
              "      <td>-2.529610e-01</td>\n",
              "      <td>-3.029707e-01</td>\n",
              "      <td>-3.965686e-01</td>\n",
              "      <td>-3.120531e-01</td>\n",
              "      <td>-5.350200e-02</td>\n",
              "      <td>-3.487968e-01</td>\n",
              "      <td>-2.745402e-01</td>\n",
              "      <td>-1.987211e-01</td>\n",
              "      <td>-2.688735e-01</td>\n",
              "    </tr>\n",
              "    <tr>\n",
              "      <th>75%</th>\n",
              "      <td>-2.600442e-01</td>\n",
              "      <td>-1.382948e-01</td>\n",
              "      <td>-1.819626e-02</td>\n",
              "      <td>-2.529610e-01</td>\n",
              "      <td>5.536032e-02</td>\n",
              "      <td>-8.775504e-02</td>\n",
              "      <td>-5.172838e-02</td>\n",
              "      <td>-5.350200e-02</td>\n",
              "      <td>5.791268e-03</td>\n",
              "      <td>-2.745402e-01</td>\n",
              "      <td>-1.987211e-01</td>\n",
              "      <td>-2.688735e-01</td>\n",
              "    </tr>\n",
              "    <tr>\n",
              "      <th>max</th>\n",
              "      <td>4.126817e+01</td>\n",
              "      <td>4.945185e+01</td>\n",
              "      <td>1.926657e+02</td>\n",
              "      <td>8.393913e+00</td>\n",
              "      <td>2.119689e+01</td>\n",
              "      <td>2.308168e+01</td>\n",
              "      <td>2.155523e+01</td>\n",
              "      <td>9.269118e+01</td>\n",
              "      <td>3.262789e+01</td>\n",
              "      <td>2.529947e+01</td>\n",
              "      <td>5.258650e+01</td>\n",
              "      <td>1.892436e+01</td>\n",
              "    </tr>\n",
              "  </tbody>\n",
              "</table>\n",
              "</div>"
            ],
            "text/plain": [
              "       total_sessions  total_transactions  total_revenue  avg_session_quality  \\\n",
              "count    3.896600e+04        3.896600e+04   3.896600e+04         3.896600e+04   \n",
              "mean    -1.400444e-16        5.835181e-18  -1.458795e-18        -1.167036e-17   \n",
              "std      1.000013e+00        1.000013e+00   1.000013e+00         1.000013e+00   \n",
              "min     -2.600442e-01       -1.382948e-01  -1.819626e-02        -3.439807e-01   \n",
              "25%     -2.600442e-01       -1.382948e-01  -1.819626e-02        -2.529610e-01   \n",
              "50%     -2.600442e-01       -1.382948e-01  -1.819626e-02        -2.529610e-01   \n",
              "75%     -2.600442e-01       -1.382948e-01  -1.819626e-02        -2.529610e-01   \n",
              "max      4.126817e+01        4.945185e+01   1.926657e+02         8.393913e+00   \n",
              "\n",
              "       avg_pageviews  avg_time_on_site      avg_hits  avg_nest_views  \\\n",
              "count   3.896600e+04      3.896600e+04  3.896600e+04    3.896600e+04   \n",
              "mean   -1.633851e-16      4.668145e-17  8.169254e-17   -3.646988e-18   \n",
              "std     1.000013e+00      1.000013e+00  1.000013e+00    1.000013e+00   \n",
              "min    -4.821363e-01     -4.134130e-01 -4.422155e-01   -5.350200e-02   \n",
              "25%    -4.821363e-01     -4.134130e-01 -4.422155e-01   -5.350200e-02   \n",
              "50%    -3.029707e-01     -3.965686e-01 -3.120531e-01   -5.350200e-02   \n",
              "75%     5.536032e-02     -8.775504e-02 -5.172838e-02   -5.350200e-02   \n",
              "max     2.119689e+01      2.308168e+01  2.155523e+01    9.269118e+01   \n",
              "\n",
              "       avg_apparel_views  avg_bag_views  avg_office_views  avg_accessory_views  \n",
              "count       3.896600e+04   3.896600e+04      3.896600e+04         3.896600e+04  \n",
              "mean       -7.002218e-17  -7.002218e-17      1.750554e-17        -2.334073e-17  \n",
              "std         1.000013e+00   1.000013e+00      1.000013e+00         1.000013e+00  \n",
              "min        -3.487968e-01  -2.745402e-01     -1.987211e-01        -2.688735e-01  \n",
              "25%        -3.487968e-01  -2.745402e-01     -1.987211e-01        -2.688735e-01  \n",
              "50%        -3.487968e-01  -2.745402e-01     -1.987211e-01        -2.688735e-01  \n",
              "75%         5.791268e-03  -2.745402e-01     -1.987211e-01        -2.688735e-01  \n",
              "max         3.262789e+01   2.529947e+01      5.258650e+01         1.892436e+01  "
            ]
          },
          "metadata": {
            "tags": []
          },
          "execution_count": 16
        }
      ]
    },
    {
      "metadata": {
        "id": "OXp9urmdZJ4B",
        "colab_type": "text"
      },
      "cell_type": "markdown",
      "source": [
        "## Applying K-Means to GA Data"
      ]
    },
    {
      "metadata": {
        "id": "zKAnxNaTqk6i",
        "colab_type": "code",
        "colab": {
          "base_uri": "https://localhost:8080/",
          "height": 119
        },
        "outputId": "6a31a69d-c293-41a2-a548-aa71ac16ff64"
      },
      "cell_type": "code",
      "source": [
        "# run clustering algorithm on dataset\n",
        "k = 5\n",
        "\n",
        "# apply k-means to StandardScaled dataframe:\n",
        "std_kmeans = KMeans(n_clusters=k).fit(std_exercise4)                                         \n",
        "exercise4['std_cluster'] = std_kmeans.predict(std_exercise4)  \n",
        "\n",
        "# print the populations of each cluster assignment:\n",
        "print exercise4.std_cluster.value_counts()"
      ],
      "execution_count": 17,
      "outputs": [
        {
          "output_type": "stream",
          "text": [
            "4    32916\n",
            "0     4604\n",
            "1      784\n",
            "3      661\n",
            "2        1\n",
            "Name: std_cluster, dtype: int64\n"
          ],
          "name": "stdout"
        }
      ]
    },
    {
      "metadata": {
        "id": "omr-69vSyqa1",
        "colab_type": "text"
      },
      "cell_type": "markdown",
      "source": [
        "*Note:* The StandardScaler() could be disproportionately influenced by outliers, we'll deal with outliers a bit later in the notebook. In our case, when a cluster consists of a single user, we might consider that an outlier. "
      ]
    },
    {
      "metadata": {
        "id": "6RkGpIjTyp4Q",
        "colab_type": "code",
        "colab": {
          "base_uri": "https://localhost:8080/",
          "height": 615
        },
        "outputId": "54e617cb-fa3c-4c80-9a81-ea7717750a76"
      },
      "cell_type": "code",
      "source": [
        "analysis_df = exercise4.groupby('std_cluster').mean().apply(lambda x: (x / x.sum().astype(float))*100).round(2)\n",
        "analysis_df['cluster_population'] = pd.DataFrame(exercise4.std_cluster.value_counts()).sort_index()['std_cluster']\n",
        "analysis_df = analysis_df.sort_values(by='cluster_population',ascending=False)\n",
        "\n",
        "import seaborn as sns\n",
        "sns.set(font_scale=1.5)\n",
        "fig, ax = plt.subplots(figsize=(18,10))         \n",
        "_ = sns.heatmap(analysis_df.drop('cluster_population',axis=1).transpose(), annot=True, ax=ax)"
      ],
      "execution_count": 18,
      "outputs": [
        {
          "output_type": "display_data",
          "data": {
            "image/png": "[encoded data removed]",
            "text/plain": [
              "<matplotlib.figure.Figure at 0x7ff9158f1850>"
            ]
          },
          "metadata": {
            "tags": []
          }
        }
      ]
    },
    {
      "metadata": {
        "id": "mSMvnO6ry2X2",
        "colab_type": "text"
      },
      "cell_type": "markdown",
      "source": [
        "### Dealing with Outliers\n",
        "There is a cluster being generated that consists of one user, and it makes up the lionshare of revenue and other metrics in our `analysis_df`.  \n",
        "We need to remove these outlier values in order to generate more representative cluster groups. To do this, we'll first analyze our query result data."
      ]
    },
    {
      "metadata": {
        "id": "9mgAKgJhiOi2",
        "colab_type": "code",
        "colab": {
          "base_uri": "https://localhost:8080/",
          "height": 34
        },
        "outputId": "45d7d05b-6c34-46e7-a088-ffd2ef132442"
      },
      "cell_type": "code",
      "source": [
        "rm_outliers = exercise4.drop('std_cluster', axis=1)\n",
        "for i in rm_outliers.columns:\n",
        "  if i not in ['fullVisitorId']:\n",
        "    rm_outliers = rm_outliers[rm_outliers[i] <= rm_outliers[i].quantile(.9999)]\n",
        "print \"removed {} outliers from the source data\".format(len(exercise4) - len(rm_outliers))"
      ],
      "execution_count": 19,
      "outputs": [
        {
          "output_type": "stream",
          "text": [
            "removed 37 outliers from the source data\n"
          ],
          "name": "stdout"
        }
      ]
    },
    {
      "metadata": {
        "id": "olYFtlZ4j598",
        "colab_type": "code",
        "colab": {
          "base_uri": "https://localhost:8080/",
          "height": 119
        },
        "outputId": "86683e99-e3da-4ada-ba39-01d17b991dd0"
      },
      "cell_type": "code",
      "source": [
        "# run clustering algorithm on dataset\n",
        "k = 5\n",
        "\n",
        "data_cluster = rm_outliers.drop('fullVisitorId', axis=1)\n",
        "\n",
        "rm_outlier_scaled = standard_scaler.fit_transform(data_cluster)\n",
        "std_rm_outlier = pd.DataFrame(rm_outlier_scaled, columns=data_cluster.columns)\n",
        "\n",
        "# apply k-means to StandardScaled dataframe:\n",
        "std_kmeans = KMeans(n_clusters=k).fit(std_rm_outlier)                                         \n",
        "rm_outliers['std_cluster'] = std_kmeans.predict(std_rm_outlier)  \n",
        "\n",
        "# print the populations of each cluster assignment:\n",
        "print rm_outliers.std_cluster.value_counts()"
      ],
      "execution_count": 20,
      "outputs": [
        {
          "output_type": "stream",
          "text": [
            "1    32344\n",
            "0     4905\n",
            "4      791\n",
            "2      771\n",
            "3      118\n",
            "Name: std_cluster, dtype: int64\n"
          ],
          "name": "stdout"
        }
      ]
    },
    {
      "metadata": {
        "id": "ye0vuXOXloYH",
        "colab_type": "code",
        "colab": {
          "base_uri": "https://localhost:8080/",
          "height": 615
        },
        "outputId": "4d47ff45-b54c-47eb-ca34-572e5fe10685"
      },
      "cell_type": "code",
      "source": [
        "analysis2_df = rm_outliers.groupby('std_cluster').mean().apply(lambda x: (x / x.sum().astype(float))*100).round(2)\n",
        "analysis2_df['cluster_population'] = pd.DataFrame(rm_outliers.std_cluster.value_counts()).sort_index()['std_cluster']\n",
        "analysis2_df = analysis2_df.sort_values(by='cluster_population',ascending=False)\n",
        "\n",
        "import seaborn as sns\n",
        "sns.set(font_scale=1.5)\n",
        "fig, ax = plt.subplots(figsize=(18,10))         \n",
        "_ = sns.heatmap(analysis2_df.drop('cluster_population',axis=1).transpose(), annot=True, ax=ax)"
      ],
      "execution_count": 21,
      "outputs": [
        {
          "output_type": "display_data",
          "data": {
            "image/png": "[encoded data removed]",
            "text/plain": [
              "<matplotlib.figure.Figure at 0x7ff915864950>"
            ]
          },
          "metadata": {
            "tags": []
          }
        }
      ]
    },
    {
      "metadata": {
        "id": "QGddsDYMH7kD",
        "colab_type": "code",
        "colab": {
          "base_uri": "https://localhost:8080/",
          "height": 297
        },
        "outputId": "b5e17614-2f6b-415c-eb84-4edbf2b5f8a1"
      },
      "cell_type": "code",
      "source": [
        "rm_outliers.describe()"
      ],
      "execution_count": 22,
      "outputs": [
        {
          "output_type": "execute_result",
          "data": {
            "text/html": [
              "<div>\n",
              "<style scoped>\n",
              "    .dataframe tbody tr th:only-of-type {\n",
              "        vertical-align: middle;\n",
              "    }\n",
              "\n",
              "    .dataframe tbody tr th {\n",
              "        vertical-align: top;\n",
              "    }\n",
              "\n",
              "    .dataframe thead th {\n",
              "        text-align: right;\n",
              "    }\n",
              "</style>\n",
              "<table border=\"1\" class=\"dataframe\">\n",
              "  <thead>\n",
              "    <tr style=\"text-align: right;\">\n",
              "      <th></th>\n",
              "      <th>total_sessions</th>\n",
              "      <th>total_transactions</th>\n",
              "      <th>total_revenue</th>\n",
              "      <th>avg_session_quality</th>\n",
              "      <th>avg_pageviews</th>\n",
              "      <th>avg_time_on_site</th>\n",
              "      <th>avg_hits</th>\n",
              "      <th>avg_nest_views</th>\n",
              "      <th>avg_apparel_views</th>\n",
              "      <th>avg_bag_views</th>\n",
              "      <th>avg_office_views</th>\n",
              "      <th>avg_accessory_views</th>\n",
              "      <th>std_cluster</th>\n",
              "    </tr>\n",
              "  </thead>\n",
              "  <tbody>\n",
              "    <tr>\n",
              "      <th>count</th>\n",
              "      <td>38929.000000</td>\n",
              "      <td>38929.000000</td>\n",
              "      <td>38929.000000</td>\n",
              "      <td>38929.000000</td>\n",
              "      <td>38929.000000</td>\n",
              "      <td>38929.000000</td>\n",
              "      <td>38929.000000</td>\n",
              "      <td>38929.000000</td>\n",
              "      <td>38929.000000</td>\n",
              "      <td>38929.000000</td>\n",
              "      <td>38929.000000</td>\n",
              "      <td>38929.000000</td>\n",
              "      <td>38929.000000</td>\n",
              "    </tr>\n",
              "    <tr>\n",
              "      <th>mean</th>\n",
              "      <td>1.186082</td>\n",
              "      <td>0.024224</td>\n",
              "      <td>2.487544</td>\n",
              "      <td>3.741539</td>\n",
              "      <td>3.649060</td>\n",
              "      <td>145.482919</td>\n",
              "      <td>4.334221</td>\n",
              "      <td>0.004311</td>\n",
              "      <td>0.647241</td>\n",
              "      <td>0.295618</td>\n",
              "      <td>0.162218</td>\n",
              "      <td>0.220151</td>\n",
              "      <td>0.960826</td>\n",
              "    </tr>\n",
              "    <tr>\n",
              "      <th>std</th>\n",
              "      <td>0.698444</td>\n",
              "      <td>0.170388</td>\n",
              "      <td>33.442675</td>\n",
              "      <td>10.880327</td>\n",
              "      <td>5.327235</td>\n",
              "      <td>346.488263</td>\n",
              "      <td>7.244055</td>\n",
              "      <td>0.073453</td>\n",
              "      <td>1.806247</td>\n",
              "      <td>1.057700</td>\n",
              "      <td>0.786096</td>\n",
              "      <td>0.805492</td>\n",
              "      <td>0.582472</td>\n",
              "    </tr>\n",
              "    <tr>\n",
              "      <th>min</th>\n",
              "      <td>1.000000</td>\n",
              "      <td>0.000000</td>\n",
              "      <td>0.000000</td>\n",
              "      <td>0.000000</td>\n",
              "      <td>1.000000</td>\n",
              "      <td>0.000000</td>\n",
              "      <td>1.000000</td>\n",
              "      <td>0.000000</td>\n",
              "      <td>0.000000</td>\n",
              "      <td>0.000000</td>\n",
              "      <td>0.000000</td>\n",
              "      <td>0.000000</td>\n",
              "      <td>0.000000</td>\n",
              "    </tr>\n",
              "    <tr>\n",
              "      <th>25%</th>\n",
              "      <td>1.000000</td>\n",
              "      <td>0.000000</td>\n",
              "      <td>0.000000</td>\n",
              "      <td>1.000000</td>\n",
              "      <td>1.000000</td>\n",
              "      <td>0.000000</td>\n",
              "      <td>1.000000</td>\n",
              "      <td>0.000000</td>\n",
              "      <td>0.000000</td>\n",
              "      <td>0.000000</td>\n",
              "      <td>0.000000</td>\n",
              "      <td>0.000000</td>\n",
              "      <td>1.000000</td>\n",
              "    </tr>\n",
              "    <tr>\n",
              "      <th>50%</th>\n",
              "      <td>1.000000</td>\n",
              "      <td>0.000000</td>\n",
              "      <td>0.000000</td>\n",
              "      <td>1.000000</td>\n",
              "      <td>2.000000</td>\n",
              "      <td>6.000000</td>\n",
              "      <td>2.000000</td>\n",
              "      <td>0.000000</td>\n",
              "      <td>0.000000</td>\n",
              "      <td>0.000000</td>\n",
              "      <td>0.000000</td>\n",
              "      <td>0.000000</td>\n",
              "      <td>1.000000</td>\n",
              "    </tr>\n",
              "    <tr>\n",
              "      <th>75%</th>\n",
              "      <td>1.000000</td>\n",
              "      <td>0.000000</td>\n",
              "      <td>0.000000</td>\n",
              "      <td>1.000000</td>\n",
              "      <td>4.000000</td>\n",
              "      <td>116.000000</td>\n",
              "      <td>4.000000</td>\n",
              "      <td>0.000000</td>\n",
              "      <td>0.666667</td>\n",
              "      <td>0.000000</td>\n",
              "      <td>0.000000</td>\n",
              "      <td>0.000000</td>\n",
              "      <td>1.000000</td>\n",
              "    </tr>\n",
              "    <tr>\n",
              "      <th>max</th>\n",
              "      <td>16.000000</td>\n",
              "      <td>4.000000</td>\n",
              "      <td>2218.100000</td>\n",
              "      <td>94.000000</td>\n",
              "      <td>89.000000</td>\n",
              "      <td>5384.000000</td>\n",
              "      <td>127.000000</td>\n",
              "      <td>3.000000</td>\n",
              "      <td>34.000000</td>\n",
              "      <td>21.000000</td>\n",
              "      <td>21.000000</td>\n",
              "      <td>15.000000</td>\n",
              "      <td>4.000000</td>\n",
              "    </tr>\n",
              "  </tbody>\n",
              "</table>\n",
              "</div>"
            ],
            "text/plain": [
              "       total_sessions  total_transactions  total_revenue  avg_session_quality  \\\n",
              "count    38929.000000        38929.000000   38929.000000         38929.000000   \n",
              "mean         1.186082            0.024224       2.487544             3.741539   \n",
              "std          0.698444            0.170388      33.442675            10.880327   \n",
              "min          1.000000            0.000000       0.000000             0.000000   \n",
              "25%          1.000000            0.000000       0.000000             1.000000   \n",
              "50%          1.000000            0.000000       0.000000             1.000000   \n",
              "75%          1.000000            0.000000       0.000000             1.000000   \n",
              "max         16.000000            4.000000    2218.100000            94.000000   \n",
              "\n",
              "       avg_pageviews  avg_time_on_site      avg_hits  avg_nest_views  \\\n",
              "count   38929.000000      38929.000000  38929.000000    38929.000000   \n",
              "mean        3.649060        145.482919      4.334221        0.004311   \n",
              "std         5.327235        346.488263      7.244055        0.073453   \n",
              "min         1.000000          0.000000      1.000000        0.000000   \n",
              "25%         1.000000          0.000000      1.000000        0.000000   \n",
              "50%         2.000000          6.000000      2.000000        0.000000   \n",
              "75%         4.000000        116.000000      4.000000        0.000000   \n",
              "max        89.000000       5384.000000    127.000000        3.000000   \n",
              "\n",
              "       avg_apparel_views  avg_bag_views  avg_office_views  \\\n",
              "count       38929.000000   38929.000000      38929.000000   \n",
              "mean            0.647241       0.295618          0.162218   \n",
              "std             1.806247       1.057700          0.786096   \n",
              "min             0.000000       0.000000          0.000000   \n",
              "25%             0.000000       0.000000          0.000000   \n",
              "50%             0.000000       0.000000          0.000000   \n",
              "75%             0.666667       0.000000          0.000000   \n",
              "max            34.000000      21.000000         21.000000   \n",
              "\n",
              "       avg_accessory_views   std_cluster  \n",
              "count         38929.000000  38929.000000  \n",
              "mean              0.220151      0.960826  \n",
              "std               0.805492      0.582472  \n",
              "min               0.000000      0.000000  \n",
              "25%               0.000000      1.000000  \n",
              "50%               0.000000      1.000000  \n",
              "75%               0.000000      1.000000  \n",
              "max              15.000000      4.000000  "
            ]
          },
          "metadata": {
            "tags": []
          },
          "execution_count": 22
        }
      ]
    },
    {
      "metadata": {
        "id": "kOJBUZsoH8vt",
        "colab_type": "code",
        "colab": {}
      },
      "cell_type": "code",
      "source": [
        ""
      ],
      "execution_count": 0,
      "outputs": []
    }
  ]
}