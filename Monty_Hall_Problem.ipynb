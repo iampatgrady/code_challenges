{
  "nbformat": 4,
  "nbformat_minor": 0,
  "metadata": {
    "colab": {
      "name": "Monty Hall Problem.ipynb",
      "version": "0.3.2",
      "provenance": [],
      "collapsed_sections": [
        "RoSzP2kHCRuR",
        "kMwWSTGQnEC0",
        "38O1FhzunH6S"
      ],
      "toc_visible": true,
      "include_colab_link": true
    },
    "kernelspec": {
      "name": "python2",
      "display_name": "Python 2"
    }
  },
  "cells": [
    {
      "cell_type": "markdown",
      "metadata": {
        "id": "view-in-github",
        "colab_type": "text"
      },
      "source": [
        "[View in Colaboratory](https://colab.research.google.com/github/iampatgrady/code_challenges/blob/master/Monty_Hall_Problem.ipynb)"
      ]
    },
    {
      "metadata": {
        "id": "tNY0aYhpSsSQ",
        "colab_type": "text"
      },
      "cell_type": "markdown",
      "source": [
        "# Monty Hall Problem\n",
        "**Goal:** Predict which door has the car behind it.  \n",
        "\n",
        "**Game Rules:** Make a prediction. The host, Monty Hall, will open all loosing doors excluding your choice. This leaves two doors: the door you selected and a door that could also have the prize. You are given the chance to change your selection before the host reveals the winning door. You will either bust or win the car based on your final selection.  \n",
        "\n",
        "**Strategies:** There are two strategies to apply in this game:  \n",
        "> 1) **Stick with your first choice.** You always turn down the chance to change your answer.  \n",
        "> 2) **Change your answer.** When given the chance to change your answer, you always take that option.   \n",
        "\n",
        "**Task:** Determine which is the best strategy. Demonstrate the best strategy using: \n",
        "> 1) code to simulate games and tabulate results  \n",
        "> 2) using a probability function as proof\n",
        "\n",
        "\n",
        "\n"
      ]
    },
    {
      "metadata": {
        "id": "ce4UjMIVWoZi",
        "colab_type": "text"
      },
      "cell_type": "markdown",
      "source": [
        "![](https://cdn-images-1.medium.com/max/533/1*fSv7k4vXkOYp8RN7lVeKyA.jpeg)"
      ]
    },
    {
      "metadata": {
        "id": "gyzfx_ukDJox",
        "colab_type": "code",
        "colab": {}
      },
      "cell_type": "code",
      "source": [
        "import numpy as np"
      ],
      "execution_count": 0,
      "outputs": []
    },
    {
      "metadata": {
        "id": "RoSzP2kHCRuR",
        "colab_type": "text"
      },
      "cell_type": "markdown",
      "source": [
        "# Pat's Answers (spoiler)"
      ]
    },
    {
      "metadata": {
        "id": "kMwWSTGQnEC0",
        "colab_type": "text"
      },
      "cell_type": "markdown",
      "source": [
        "## Solved Using Simulation:"
      ]
    },
    {
      "metadata": {
        "id": "1_zlOzq_JE2a",
        "colab_type": "code",
        "colab": {}
      },
      "cell_type": "code",
      "source": [
        "###############  Define Game Rules  ###############\n",
        "def lets_make_a_deal(selected_door, strategy, number_of_doors):\n",
        "  \n",
        "  jaguar = np.random.randint(number_of_doors) # there is a Jaguar E Series waiting behind this door\n",
        "  win = 0  \n",
        "  \n",
        "  if strategy:  # True=Change your answer, False=Stick with your first choice\n",
        "    if selected_door != jaguar: \n",
        "      win = 1  # you win so long as you didn't select the car on first attempt\n",
        "      \n",
        "  else:  \n",
        "    if selected_door == jaguar: \n",
        "      win = 1  # you win so long as you selected the car on the first attempt\n",
        "  \n",
        "  return win  # 1=win, 0=loss"
      ],
      "execution_count": 0,
      "outputs": []
    },
    {
      "metadata": {
        "id": "0MlFEVWfJSRk",
        "colab_type": "code",
        "colab": {}
      },
      "cell_type": "code",
      "source": [
        "###############  Play the Games  ###############\n",
        "def play_games(change_selection, number_of_doors, number_of_games):\n",
        "  \n",
        "  games = []        \n",
        "  \n",
        "  for g in xrange(number_of_games):\n",
        "    games.append(    \n",
        "        lets_make_a_deal(\n",
        "            np.random.randint(number_of_doors),  \n",
        "            change_selection,   \n",
        "            number_of_doors  \n",
        "        ) \n",
        "    )\n",
        "    \n",
        "  return games"
      ],
      "execution_count": 0,
      "outputs": []
    },
    {
      "metadata": {
        "id": "sX4BboPTf80_",
        "colab_type": "code",
        "colab": {
          "base_uri": "https://localhost:8080/",
          "height": 34
        },
        "outputId": "e2de1996-9201-4b88-9dfb-42cf74dc061c"
      },
      "cell_type": "code",
      "source": [
        "#@title Game Simulation { run: \"auto\", vertical-output: true }\n",
        "change_selection = False #@param [\"True\", \"False\"] {type:\"raw\"}\n",
        "number_of_doors = 3 #@param {type:\"slider\", min:3, max:20, step:1}\n",
        "number_of_games = 10000 #@param {type:\"integer\"}\n",
        "\n",
        "games = play_games(change_selection, number_of_doors, number_of_games)\n",
        "\n",
        "\n",
        "###############  Report the Results  ###############\n",
        "print \"You won {}% out of {} games.\".format(\n",
        "    round(np.mean(games),3)*100,  # % of total games won, ie: sum([0,0,1]) / len([0,0,1]) = .3333 = 33%\n",
        "    number_of_games\n",
        ")"
      ],
      "execution_count": 4,
      "outputs": [
        {
          "output_type": "stream",
          "text": [
            "You won 33.3% out of 10000 games.\n"
          ],
          "name": "stdout"
        }
      ]
    },
    {
      "metadata": {
        "id": "38O1FhzunH6S",
        "colab_type": "text"
      },
      "cell_type": "markdown",
      "source": [
        "## Solved Using Probability Function:"
      ]
    },
    {
      "metadata": {
        "id": "976K1Eq3nmPv",
        "colab_type": "text"
      },
      "cell_type": "markdown",
      "source": [
        "<h3> Bayes Law: </h3>\n",
        "![Bayes Law](https://saush.files.wordpress.com/2009/02/bayeslaweq11.png?w=300)\n",
        "\n",
        "Multiply the `'probability of Monty opening door B given that we selected door A'` - P(B|A) - by the `'probability of selecting the correct door with all doors closed'` - P(A). We divide this result by the `'probability of Monty opening door B knowing where the cars are'` - P(B). This leaves us with the `probability the car is behind door A given that Monty opened door B` - P(A|B)."
      ]
    },
    {
      "metadata": {
        "id": "4dHaul_kj5ps",
        "colab_type": "code",
        "colab": {
          "base_uri": "https://localhost:8080/",
          "height": 88
        },
        "outputId": "b2335e71-f3ee-4ecf-8bdd-4722cd7ff3ad"
      },
      "cell_type": "code",
      "source": [
        "#@title Probability - Bayes Law { run: \"auto\", vertical-output: true }\n",
        "number_of_doors = 3 #@param {type:\"slider\", min:3, max:20, step:1}\n",
        "\n",
        "# P(B|A), Odds Monty selected B, given you choose A\n",
        "prob_of_b_given_a = np.divide(1, float(number_of_doors-1) ) \n",
        "\n",
        "# P(A), Odds that you got the car on first choice, with no information\n",
        "prob_of_a = np.divide(1, float(number_of_doors))  \n",
        "\n",
        "# P(B), Odds that Monty selected B, knowing where the car was\n",
        "prob_of_b = np.divide(1,float(number_of_doors-1)) \n",
        "\n",
        "print \"\"\"The probability you selected the right door given that Monty showed you a new door is {}%.\n",
        "This means that changing your answer would give you a {}% chance of winning the Jaguar.\n",
        "\"\"\".format(\n",
        "  round(np.divide((prob_of_b_given_a * prob_of_a), prob_of_b),3)*100,  # = P(A|B)\n",
        "  100-round(np.divide((prob_of_b_given_a * prob_of_a), prob_of_b),3)*100 # = 1 - P(A|B)\n",
        ")"
      ],
      "execution_count": 5,
      "outputs": [
        {
          "output_type": "stream",
          "text": [
            "The probability you selected the right door given that Monty showed you a new door is 33.3%.\n",
            "This means that changing your answer would give you a 66.7% chance of winning the Jaguar.\n",
            "\n"
          ],
          "name": "stdout"
        }
      ]
    },
    {
      "metadata": {
        "id": "qd1Q1NBYBGV0",
        "colab_type": "code",
        "colab": {}
      },
      "cell_type": "code",
      "source": [
        ""
      ],
      "execution_count": 0,
      "outputs": []
    }
  ]
}