{
  "nbformat": 4,
  "nbformat_minor": 0,
  "metadata": {
    "colab": {
      "name": "Monty Hall Problem.ipynb",
      "version": "0.3.2",
      "provenance": [],
      "collapsed_sections": [
        "kMwWSTGQnEC0",
        "38O1FhzunH6S"
      ],
      "toc_visible": true,
      "include_colab_link": true
    },
    "kernelspec": {
      "name": "python2",
      "display_name": "Python 2"
    }
  },
  "cells": [
    {
      "cell_type": "markdown",
      "metadata": {
        "id": "view-in-github",
        "colab_type": "text"
      },
      "source": [
        "<a href=\"https://colab.research.google.com/github/iampatgrady/code_challenges/blob/master/Monty_Hall_Problem.ipynb\" target=\"_parent\"><img src=\"https://colab.research.google.com/assets/colab-badge.svg\" alt=\"Open In Colab\"/></a>"
      ]
    },
    {
      "cell_type": "markdown",
      "metadata": {
        "id": "tNY0aYhpSsSQ",
        "colab_type": "text"
      },
      "source": [
        "# Monty Hall Problem\n",
        "**Goal:** Predict which door has the car behind it.  \n",
        "\n",
        "**Game Rules:** Make a prediction. The host, Monty Hall, will open all loosing doors excluding your choice. This leaves two doors: the door you selected and a door that could also have the prize. You are given the chance to change your selection before the host reveals the winning door. You will either bust or win the car based on your final selection.  \n",
        "\n",
        "**Strategies:** There are two strategies to apply in this game:  \n",
        "> 1) **Stick with your first choice.** You always turn down the chance to change your answer.  \n",
        "> 2) **Change your answer.** When given the chance to change your answer, you always take that option.   \n",
        "\n",
        "**Task:** Determine which is the best strategy. Demonstrate the best strategy using: \n",
        "> 1) code to simulate games and tabulate results  \n",
        "> 2) using a probability function as proof\n",
        "\n",
        "\n",
        "\n"
      ]
    },
    {
      "cell_type": "markdown",
      "metadata": {
        "id": "ce4UjMIVWoZi",
        "colab_type": "text"
      },
      "source": [
        "![CooperToons Monty Hall Revisited](https://cdn-images-1.medium.com/max/533/1*fSv7k4vXkOYp8RN7lVeKyA.jpeg)  \n",
        "Copyright 2019  |  Charles F. Cooper  | CooperToons  | https://www.coopertoons.com/  "
      ]
    },
    {
      "cell_type": "code",
      "metadata": {
        "id": "gyzfx_ukDJox",
        "colab_type": "code",
        "colab": {}
      },
      "source": [
        "import numpy as np"
      ],
      "execution_count": 0,
      "outputs": []
    },
    {
      "cell_type": "markdown",
      "metadata": {
        "id": "RoSzP2kHCRuR",
        "colab_type": "text"
      },
      "source": [
        "# Spoiler: Answers"
      ]
    },
    {
      "cell_type": "markdown",
      "metadata": {
        "id": "kMwWSTGQnEC0",
        "colab_type": "text"
      },
      "source": [
        "## Solved Using Simulation:"
      ]
    },
    {
      "cell_type": "code",
      "metadata": {
        "id": "1_zlOzq_JE2a",
        "colab_type": "code",
        "colab": {}
      },
      "source": [
        "###############  Define Game Rules  ###############\n",
        "def lets_make_a_deal(selected_door, strategy, number_of_doors):\n",
        "  \n",
        "  jaguar = np.random.randint(number_of_doors) # there is a Jaguar E Series behind this door\n",
        "  win = 0  \n",
        "  \n",
        "  if strategy:  # strategy=True: Change your answer\n",
        "    if selected_door != jaguar: \n",
        "      win = 1  \n",
        "      \n",
        "  else:  # strategy=False: Stick with your first choice\n",
        "    if selected_door == jaguar: \n",
        "      win = 1  \n",
        "  \n",
        "  return win  # 1=win, 0=loss"
      ],
      "execution_count": 0,
      "outputs": []
    },
    {
      "cell_type": "code",
      "metadata": {
        "id": "0MlFEVWfJSRk",
        "colab_type": "code",
        "colab": {}
      },
      "source": [
        "###############  Play the Games  ###############\n",
        "def play_games(change_selection, number_of_doors, number_of_games):\n",
        "  \n",
        "  games = []        \n",
        "  \n",
        "  for g in xrange(number_of_games):\n",
        "    games.append(    \n",
        "        lets_make_a_deal(\n",
        "            np.random.randint(number_of_doors),  # select random door\n",
        "            change_selection,    # selection strategy\n",
        "            number_of_doors  \n",
        "        ) \n",
        "    )\n",
        "    \n",
        "  return games"
      ],
      "execution_count": 0,
      "outputs": []
    },
    {
      "cell_type": "code",
      "metadata": {
        "id": "sX4BboPTf80_",
        "colab_type": "code",
        "outputId": "e8848dfb-41aa-4ecc-d1b0-8a6f848b829b",
        "colab": {
          "base_uri": "https://localhost:8080/",
          "height": 34
        }
      },
      "source": [
        "#@title Game Simulation { run: \"auto\", vertical-output: true }\n",
        "change_selection = False #@param [\"True\", \"False\"] {type:\"raw\"}\n",
        "number_of_doors = 3 #@param {type:\"slider\", min:3, max:20, step:1}\n",
        "number_of_games = 10000 #@param {type:\"integer\"}\n",
        "\n",
        "games = play_games(change_selection, number_of_doors, number_of_games)\n",
        "\n",
        "\n",
        "###############  Report the Results  ###############\n",
        "print \"You won {}% out of {} games.\".format(\n",
        "    round(np.mean(games),3)*100,  # % won, ie: sum([0,0,1]) / len([0,0,1]) = .3333 = 33%\n",
        "    number_of_games\n",
        ")"
      ],
      "execution_count": 31,
      "outputs": [
        {
          "output_type": "stream",
          "text": [
            "You won 33.3% out of 10000 games.\n"
          ],
          "name": "stdout"
        }
      ]
    },
    {
      "cell_type": "markdown",
      "metadata": {
        "id": "38O1FhzunH6S",
        "colab_type": "text"
      },
      "source": [
        "## Solved Using Probability Function:"
      ]
    },
    {
      "cell_type": "markdown",
      "metadata": {
        "id": "976K1Eq3nmPv",
        "colab_type": "text"
      },
      "source": [
        "### Bayes Theorem:  \n",
        "![Bayes Theorem](https://storage.googleapis.com/adswerve-bigquery-training/images/bayes_theorem.png)  \n",
        "where A and B are events and P(B) != 0.  \n",
        "**P(A|B)** is a conditional probability: the likelihood of event A occurring given that B is true.  \n",
        "**P(B|A)** is also a conditional probability: the likelihood of event B occurring given that A is true.  \n",
        "**P(A)** and **P(B)** are the probabilities of observing A and B independently of each other; this is known as the marginal probability.  \n",
        "\n",
        "**Applied to Monty Hall Problem:**  \n",
        "Multiply the *`'probability of Monty opening door B given that we selected door A'`* **P(B|A)** by the *`'probability of selecting the correct door with all doors closed'`* **P(A)**. We divide this product by the *`'probability of Monty opening door B'`* **P(B)**. This leaves us with the *`'probability the car is behind door A given that Monty opened door B'`* **P(A|B)**."
      ]
    },
    {
      "cell_type": "code",
      "metadata": {
        "id": "4dHaul_kj5ps",
        "colab_type": "code",
        "outputId": "b3e06c70-7e9e-4e60-fc8e-ade7b85c104f",
        "colab": {
          "base_uri": "https://localhost:8080/",
          "height": 68
        }
      },
      "source": [
        "#@title Probability - Bayes Law { run: \"auto\", vertical-output: true }\n",
        "number_of_doors = 3 #@param {type:\"slider\", min:3, max:20, step:1}\n",
        "\n",
        "# P(B|A), Odds Monty selected B, given you choose A\n",
        "prob_of_b_given_a = np.divide(1, float(number_of_doors-1) ) \n",
        "\n",
        "# P(A), Odds that you got the car on first choice, with no information\n",
        "prob_of_a = np.divide(1, float(number_of_doors))  \n",
        "\n",
        "# P(B), Odds that Monty selected B, knowing where the car was\n",
        "prob_of_b = np.divide(1,float(number_of_doors-1)) \n",
        "\n",
        "print \"\"\"Probability you selected the right door after Monty opened remaining losing doors: {}%.\n",
        "This means that changing your answer would give you a {}% chance of winning the Jaguar.\n",
        "\"\"\".format(\n",
        "  round(np.divide((prob_of_b_given_a * prob_of_a), prob_of_b),3)*100,  # = P(A|B)\n",
        "  100-round(np.divide((prob_of_b_given_a * prob_of_a), prob_of_b),3)*100 # = 1 - P(A|B)\n",
        ")"
      ],
      "execution_count": 0,
      "outputs": [
        {
          "output_type": "stream",
          "text": [
            "Probability you selected the right door after Monty opened remaining losing doors: 33.3%.\n",
            "This means that changing your answer would give you a 66.7% chance of winning the Jaguar.\n",
            "\n"
          ],
          "name": "stdout"
        }
      ]
    }
  ]
}